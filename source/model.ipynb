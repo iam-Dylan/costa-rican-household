{
 "cells": [
  {
   "cell_type": "markdown",
   "metadata": {},
   "source": [
    "# Import thư viện cần thiết"
   ]
  },
  {
   "cell_type": "code",
   "execution_count": 1,
   "metadata": {},
   "outputs": [],
   "source": [
    "import warnings\n",
    "warnings.simplefilter(action='ignore', category=FutureWarning)\n",
    "\n",
    "import pandas as pd\n",
    "import numpy as np\n",
    "\n",
    "import matplotlib.pyplot as plt\n",
    "import seaborn as sns"
   ]
  },
  {
   "cell_type": "markdown",
   "metadata": {},
   "source": [
    "Đọc dữ liệu"
   ]
  },
  {
   "cell_type": "code",
   "execution_count": 2,
   "metadata": {},
   "outputs": [
    {
     "data": {
      "text/html": [
       "<div>\n",
       "<style scoped>\n",
       "    .dataframe tbody tr th:only-of-type {\n",
       "        vertical-align: middle;\n",
       "    }\n",
       "\n",
       "    .dataframe tbody tr th {\n",
       "        vertical-align: top;\n",
       "    }\n",
       "\n",
       "    .dataframe thead th {\n",
       "        text-align: right;\n",
       "    }\n",
       "</style>\n",
       "<table border=\"1\" class=\"dataframe\">\n",
       "  <thead>\n",
       "    <tr style=\"text-align: right;\">\n",
       "      <th></th>\n",
       "      <th>Id</th>\n",
       "      <th>v2a1</th>\n",
       "      <th>hacdor</th>\n",
       "      <th>rooms</th>\n",
       "      <th>hacapo</th>\n",
       "      <th>v14a</th>\n",
       "      <th>refrig</th>\n",
       "      <th>v18q</th>\n",
       "      <th>v18q1</th>\n",
       "      <th>r4h1</th>\n",
       "      <th>...</th>\n",
       "      <th>SQBescolari</th>\n",
       "      <th>SQBage</th>\n",
       "      <th>SQBhogar_total</th>\n",
       "      <th>SQBedjefe</th>\n",
       "      <th>SQBhogar_nin</th>\n",
       "      <th>SQBovercrowding</th>\n",
       "      <th>SQBdependency</th>\n",
       "      <th>SQBmeaned</th>\n",
       "      <th>agesq</th>\n",
       "      <th>Target</th>\n",
       "    </tr>\n",
       "  </thead>\n",
       "  <tbody>\n",
       "    <tr>\n",
       "      <th>0</th>\n",
       "      <td>ID_279628684</td>\n",
       "      <td>190000.0</td>\n",
       "      <td>0</td>\n",
       "      <td>3</td>\n",
       "      <td>0</td>\n",
       "      <td>1</td>\n",
       "      <td>1</td>\n",
       "      <td>0</td>\n",
       "      <td>0.0</td>\n",
       "      <td>0</td>\n",
       "      <td>...</td>\n",
       "      <td>100</td>\n",
       "      <td>1849</td>\n",
       "      <td>1</td>\n",
       "      <td>100</td>\n",
       "      <td>0</td>\n",
       "      <td>1.000000</td>\n",
       "      <td>0.0</td>\n",
       "      <td>100.0</td>\n",
       "      <td>1849</td>\n",
       "      <td>4</td>\n",
       "    </tr>\n",
       "    <tr>\n",
       "      <th>1</th>\n",
       "      <td>ID_f29eb3ddd</td>\n",
       "      <td>135000.0</td>\n",
       "      <td>0</td>\n",
       "      <td>4</td>\n",
       "      <td>0</td>\n",
       "      <td>1</td>\n",
       "      <td>1</td>\n",
       "      <td>1</td>\n",
       "      <td>1.0</td>\n",
       "      <td>0</td>\n",
       "      <td>...</td>\n",
       "      <td>144</td>\n",
       "      <td>4489</td>\n",
       "      <td>1</td>\n",
       "      <td>144</td>\n",
       "      <td>0</td>\n",
       "      <td>1.000000</td>\n",
       "      <td>64.0</td>\n",
       "      <td>144.0</td>\n",
       "      <td>4489</td>\n",
       "      <td>4</td>\n",
       "    </tr>\n",
       "    <tr>\n",
       "      <th>2</th>\n",
       "      <td>ID_68de51c94</td>\n",
       "      <td>0.0</td>\n",
       "      <td>0</td>\n",
       "      <td>8</td>\n",
       "      <td>0</td>\n",
       "      <td>1</td>\n",
       "      <td>1</td>\n",
       "      <td>0</td>\n",
       "      <td>0.0</td>\n",
       "      <td>0</td>\n",
       "      <td>...</td>\n",
       "      <td>121</td>\n",
       "      <td>8464</td>\n",
       "      <td>1</td>\n",
       "      <td>0</td>\n",
       "      <td>0</td>\n",
       "      <td>0.250000</td>\n",
       "      <td>64.0</td>\n",
       "      <td>121.0</td>\n",
       "      <td>8464</td>\n",
       "      <td>4</td>\n",
       "    </tr>\n",
       "    <tr>\n",
       "      <th>3</th>\n",
       "      <td>ID_d671db89c</td>\n",
       "      <td>180000.0</td>\n",
       "      <td>0</td>\n",
       "      <td>5</td>\n",
       "      <td>0</td>\n",
       "      <td>1</td>\n",
       "      <td>1</td>\n",
       "      <td>1</td>\n",
       "      <td>1.0</td>\n",
       "      <td>0</td>\n",
       "      <td>...</td>\n",
       "      <td>81</td>\n",
       "      <td>289</td>\n",
       "      <td>16</td>\n",
       "      <td>121</td>\n",
       "      <td>4</td>\n",
       "      <td>1.777778</td>\n",
       "      <td>1.0</td>\n",
       "      <td>121.0</td>\n",
       "      <td>289</td>\n",
       "      <td>4</td>\n",
       "    </tr>\n",
       "    <tr>\n",
       "      <th>4</th>\n",
       "      <td>ID_d56d6f5f5</td>\n",
       "      <td>180000.0</td>\n",
       "      <td>0</td>\n",
       "      <td>5</td>\n",
       "      <td>0</td>\n",
       "      <td>1</td>\n",
       "      <td>1</td>\n",
       "      <td>1</td>\n",
       "      <td>1.0</td>\n",
       "      <td>0</td>\n",
       "      <td>...</td>\n",
       "      <td>121</td>\n",
       "      <td>1369</td>\n",
       "      <td>16</td>\n",
       "      <td>121</td>\n",
       "      <td>4</td>\n",
       "      <td>1.777778</td>\n",
       "      <td>1.0</td>\n",
       "      <td>121.0</td>\n",
       "      <td>1369</td>\n",
       "      <td>4</td>\n",
       "    </tr>\n",
       "  </tbody>\n",
       "</table>\n",
       "<p>5 rows × 143 columns</p>\n",
       "</div>"
      ],
      "text/plain": [
       "             Id      v2a1  hacdor  rooms  hacapo  v14a  refrig  v18q  v18q1  \\\n",
       "0  ID_279628684  190000.0       0      3       0     1       1     0    0.0   \n",
       "1  ID_f29eb3ddd  135000.0       0      4       0     1       1     1    1.0   \n",
       "2  ID_68de51c94       0.0       0      8       0     1       1     0    0.0   \n",
       "3  ID_d671db89c  180000.0       0      5       0     1       1     1    1.0   \n",
       "4  ID_d56d6f5f5  180000.0       0      5       0     1       1     1    1.0   \n",
       "\n",
       "   r4h1  ...  SQBescolari  SQBage  SQBhogar_total  SQBedjefe  SQBhogar_nin  \\\n",
       "0     0  ...          100    1849               1        100             0   \n",
       "1     0  ...          144    4489               1        144             0   \n",
       "2     0  ...          121    8464               1          0             0   \n",
       "3     0  ...           81     289              16        121             4   \n",
       "4     0  ...          121    1369              16        121             4   \n",
       "\n",
       "   SQBovercrowding  SQBdependency  SQBmeaned  agesq  Target  \n",
       "0         1.000000            0.0      100.0   1849       4  \n",
       "1         1.000000           64.0      144.0   4489       4  \n",
       "2         0.250000           64.0      121.0   8464       4  \n",
       "3         1.777778            1.0      121.0    289       4  \n",
       "4         1.777778            1.0      121.0   1369       4  \n",
       "\n",
       "[5 rows x 143 columns]"
      ]
     },
     "execution_count": 2,
     "metadata": {},
     "output_type": "execute_result"
    }
   ],
   "source": [
    "train = pd.read_csv('../data/train_preprocessed.csv')\n",
    "train.head()"
   ]
  },
  {
   "cell_type": "code",
   "execution_count": 3,
   "metadata": {},
   "outputs": [
    {
     "data": {
      "text/html": [
       "<div>\n",
       "<style scoped>\n",
       "    .dataframe tbody tr th:only-of-type {\n",
       "        vertical-align: middle;\n",
       "    }\n",
       "\n",
       "    .dataframe tbody tr th {\n",
       "        vertical-align: top;\n",
       "    }\n",
       "\n",
       "    .dataframe thead th {\n",
       "        text-align: right;\n",
       "    }\n",
       "</style>\n",
       "<table border=\"1\" class=\"dataframe\">\n",
       "  <thead>\n",
       "    <tr style=\"text-align: right;\">\n",
       "      <th></th>\n",
       "      <th>Id</th>\n",
       "      <th>v2a1</th>\n",
       "      <th>hacdor</th>\n",
       "      <th>rooms</th>\n",
       "      <th>hacapo</th>\n",
       "      <th>v14a</th>\n",
       "      <th>refrig</th>\n",
       "      <th>v18q</th>\n",
       "      <th>v18q1</th>\n",
       "      <th>r4h1</th>\n",
       "      <th>...</th>\n",
       "      <th>age</th>\n",
       "      <th>SQBescolari</th>\n",
       "      <th>SQBage</th>\n",
       "      <th>SQBhogar_total</th>\n",
       "      <th>SQBedjefe</th>\n",
       "      <th>SQBhogar_nin</th>\n",
       "      <th>SQBovercrowding</th>\n",
       "      <th>SQBdependency</th>\n",
       "      <th>SQBmeaned</th>\n",
       "      <th>agesq</th>\n",
       "    </tr>\n",
       "  </thead>\n",
       "  <tbody>\n",
       "    <tr>\n",
       "      <th>0</th>\n",
       "      <td>ID_2f6873615</td>\n",
       "      <td>0.0</td>\n",
       "      <td>0</td>\n",
       "      <td>5</td>\n",
       "      <td>0</td>\n",
       "      <td>1</td>\n",
       "      <td>1</td>\n",
       "      <td>0</td>\n",
       "      <td>0.0</td>\n",
       "      <td>1</td>\n",
       "      <td>...</td>\n",
       "      <td>4</td>\n",
       "      <td>0</td>\n",
       "      <td>16</td>\n",
       "      <td>9</td>\n",
       "      <td>0</td>\n",
       "      <td>1</td>\n",
       "      <td>2.25</td>\n",
       "      <td>0.25</td>\n",
       "      <td>272.25</td>\n",
       "      <td>16</td>\n",
       "    </tr>\n",
       "    <tr>\n",
       "      <th>1</th>\n",
       "      <td>ID_1c78846d2</td>\n",
       "      <td>0.0</td>\n",
       "      <td>0</td>\n",
       "      <td>5</td>\n",
       "      <td>0</td>\n",
       "      <td>1</td>\n",
       "      <td>1</td>\n",
       "      <td>0</td>\n",
       "      <td>0.0</td>\n",
       "      <td>1</td>\n",
       "      <td>...</td>\n",
       "      <td>41</td>\n",
       "      <td>256</td>\n",
       "      <td>1681</td>\n",
       "      <td>9</td>\n",
       "      <td>0</td>\n",
       "      <td>1</td>\n",
       "      <td>2.25</td>\n",
       "      <td>0.25</td>\n",
       "      <td>272.25</td>\n",
       "      <td>1681</td>\n",
       "    </tr>\n",
       "    <tr>\n",
       "      <th>2</th>\n",
       "      <td>ID_e5442cf6a</td>\n",
       "      <td>0.0</td>\n",
       "      <td>0</td>\n",
       "      <td>5</td>\n",
       "      <td>0</td>\n",
       "      <td>1</td>\n",
       "      <td>1</td>\n",
       "      <td>0</td>\n",
       "      <td>0.0</td>\n",
       "      <td>1</td>\n",
       "      <td>...</td>\n",
       "      <td>41</td>\n",
       "      <td>289</td>\n",
       "      <td>1681</td>\n",
       "      <td>9</td>\n",
       "      <td>0</td>\n",
       "      <td>1</td>\n",
       "      <td>2.25</td>\n",
       "      <td>0.25</td>\n",
       "      <td>272.25</td>\n",
       "      <td>1681</td>\n",
       "    </tr>\n",
       "    <tr>\n",
       "      <th>3</th>\n",
       "      <td>ID_a8db26a79</td>\n",
       "      <td>0.0</td>\n",
       "      <td>0</td>\n",
       "      <td>14</td>\n",
       "      <td>0</td>\n",
       "      <td>1</td>\n",
       "      <td>1</td>\n",
       "      <td>1</td>\n",
       "      <td>1.0</td>\n",
       "      <td>0</td>\n",
       "      <td>...</td>\n",
       "      <td>59</td>\n",
       "      <td>256</td>\n",
       "      <td>3481</td>\n",
       "      <td>1</td>\n",
       "      <td>256</td>\n",
       "      <td>0</td>\n",
       "      <td>1.00</td>\n",
       "      <td>0.00</td>\n",
       "      <td>256.00</td>\n",
       "      <td>3481</td>\n",
       "    </tr>\n",
       "    <tr>\n",
       "      <th>4</th>\n",
       "      <td>ID_a62966799</td>\n",
       "      <td>175000.0</td>\n",
       "      <td>0</td>\n",
       "      <td>4</td>\n",
       "      <td>0</td>\n",
       "      <td>1</td>\n",
       "      <td>1</td>\n",
       "      <td>1</td>\n",
       "      <td>1.0</td>\n",
       "      <td>0</td>\n",
       "      <td>...</td>\n",
       "      <td>18</td>\n",
       "      <td>121</td>\n",
       "      <td>324</td>\n",
       "      <td>1</td>\n",
       "      <td>0</td>\n",
       "      <td>1</td>\n",
       "      <td>0.25</td>\n",
       "      <td>64.00</td>\n",
       "      <td>121.00</td>\n",
       "      <td>324</td>\n",
       "    </tr>\n",
       "  </tbody>\n",
       "</table>\n",
       "<p>5 rows × 142 columns</p>\n",
       "</div>"
      ],
      "text/plain": [
       "             Id      v2a1  hacdor  rooms  hacapo  v14a  refrig  v18q  v18q1  \\\n",
       "0  ID_2f6873615       0.0       0      5       0     1       1     0    0.0   \n",
       "1  ID_1c78846d2       0.0       0      5       0     1       1     0    0.0   \n",
       "2  ID_e5442cf6a       0.0       0      5       0     1       1     0    0.0   \n",
       "3  ID_a8db26a79       0.0       0     14       0     1       1     1    1.0   \n",
       "4  ID_a62966799  175000.0       0      4       0     1       1     1    1.0   \n",
       "\n",
       "   r4h1  ...  age  SQBescolari  SQBage  SQBhogar_total  SQBedjefe  \\\n",
       "0     1  ...    4            0      16               9          0   \n",
       "1     1  ...   41          256    1681               9          0   \n",
       "2     1  ...   41          289    1681               9          0   \n",
       "3     0  ...   59          256    3481               1        256   \n",
       "4     0  ...   18          121     324               1          0   \n",
       "\n",
       "   SQBhogar_nin  SQBovercrowding  SQBdependency  SQBmeaned  agesq  \n",
       "0             1             2.25           0.25     272.25     16  \n",
       "1             1             2.25           0.25     272.25   1681  \n",
       "2             1             2.25           0.25     272.25   1681  \n",
       "3             0             1.00           0.00     256.00   3481  \n",
       "4             1             0.25          64.00     121.00    324  \n",
       "\n",
       "[5 rows x 142 columns]"
      ]
     },
     "execution_count": 3,
     "metadata": {},
     "output_type": "execute_result"
    }
   ],
   "source": [
    "test = pd.read_csv('../data/test_preprocessed.csv')\n",
    "test.head()"
   ]
  },
  {
   "cell_type": "markdown",
   "metadata": {},
   "source": [
    "# Xây dựng mô hình học máy"
   ]
  },
  {
   "cell_type": "markdown",
   "metadata": {},
   "source": [
    "Tổng hợp dữ liệu để xử lý trên các thuộc tính."
   ]
  },
  {
   "cell_type": "code",
   "execution_count": 4,
   "metadata": {},
   "outputs": [],
   "source": [
    "ntrain = train.shape[0]\n",
    "ntest = test.shape[0]\n",
    "\n",
    "all_data = pd.concat((train, test)).reset_index(drop=True)"
   ]
  },
  {
   "cell_type": "markdown",
   "metadata": {},
   "source": [
    "## Loại bỏ các cột chỉ có 1 giá trị độc nhất"
   ]
  },
  {
   "cell_type": "markdown",
   "metadata": {},
   "source": [
    "Đối với các cột chỉ tồn tại 1 giá trị duy nhất, việc xuất hiện của nó có thể làm cho quá trình dự đoán kết quả trở nên cồng kềnh hơn một cách không cần thiết."
   ]
  },
  {
   "cell_type": "code",
   "execution_count": 5,
   "metadata": {},
   "outputs": [],
   "source": [
    "for column in all_data.columns:\n",
    "    if all_data[column].nunique() == 1:\n",
    "        all_data.drop(column, axis=1, inplace=True)"
   ]
  },
  {
   "cell_type": "markdown",
   "metadata": {},
   "source": [
    "## Loại bỏ những thuộc tính dư thừa"
   ]
  },
  {
   "cell_type": "markdown",
   "metadata": {},
   "source": [
    "### Tạo biến ordinal từ dữ liệu đã được one-hot encode"
   ]
  },
  {
   "cell_type": "markdown",
   "metadata": {},
   "source": [
    "Các thuộc tính như `epared`, `etecho`, `eviv` có thể được chuyển về dạng dữ liệu ordinal với quy ước **(bad, regular, good) -> (0, 1, 2)** và`instlevel` với giá trị từ **1 - 9**. "
   ]
  },
  {
   "cell_type": "code",
   "execution_count": 6,
   "metadata": {},
   "outputs": [],
   "source": [
    "def get_numeric(data, status_name):\n",
    "    status_cols = [s for s in data.columns.tolist() if status_name in s]\n",
    "    status_df = data[status_cols]\n",
    "    status_df.columns = list(range(status_df.shape[1]))\n",
    "    status_numeric = status_df.idxmax(1)\n",
    "    status_numeric.name = status_name\n",
    "    data = pd.concat([data, status_numeric], axis=1)\n",
    "    return data"
   ]
  },
  {
   "cell_type": "code",
   "execution_count": 7,
   "metadata": {},
   "outputs": [],
   "source": [
    "status_name_list = ['epared', 'etecho', 'eviv', 'instlevel']\n",
    "for status_name in status_name_list:\n",
    "    all_data = get_numeric(all_data, status_name)"
   ]
  },
  {
   "cell_type": "markdown",
   "metadata": {},
   "source": [
    "### Xóa những thuộc tính không cần thiết"
   ]
  },
  {
   "cell_type": "markdown",
   "metadata": {},
   "source": [
    "Nhóm nhận thấy có những thuộc tính có thể được xác định bằng những thuộc tính khác trong dữ liệu.\n",
    "\n",
    "- Nhóm thuộc tính sau với `r4h` và `r4m`:\n",
    "    ```\n",
    "    r4t1, persons younger than 12 years of age\n",
    "    r4t2, persons 12 years of age and older\n",
    "    r4t3, Total persons in the household\n",
    "    ```\n",
    "\n",
    "- Các thuộc tính sau mang cùng ý nghĩa với `hogar_total`:\n",
    "    ```\n",
    "    tamhog, size of the household\n",
    "    tamviv, number of persons living in the household\n",
    "    hhsize, household size\n",
    "    r4t3, Total persons in the household\n",
    "    ```\n",
    "\n",
    "- `v18q` có thể được tạo ra từ `v18q1`.\n",
    "- `mobilephone` có thể được tạo ra từ `qmobilephone`.\n",
    "- `area2` có thể suy ra từ `area1`.\n",
    "- `female` có thể suy ra từ `male`.\n",
    "- `epared1~3`, `etecho1~3`, `eviv1~3`, `instlevel1~9` do đã được chuyển đổi thành dữ liệu ordinal nên sẽ không dùng đến nữa."
   ]
  },
  {
   "cell_type": "code",
   "execution_count": 8,
   "metadata": {},
   "outputs": [],
   "source": [
    "redundant_features = ['r4t1', 'r4t2', 'r4t3', \n",
    "                      'tamhog', 'tamviv', 'hhsize', 'r4t3', \n",
    "                      'v18q', 'mobilephone', 'area2', 'female',\n",
    "                      'epared1', 'epared2', 'epared3', \n",
    "                      'etecho1', 'etecho2', 'etecho3',\n",
    "                      'eviv1', 'eviv2', 'eviv3', \n",
    "                      'instlevel1', 'instlevel2', 'instlevel3', 'instlevel4', 'instlevel5', 'instlevel6', 'instlevel7', 'instlevel8', 'instlevel9']\n",
    "all_data.drop(columns=redundant_features, inplace=True)"
   ]
  },
  {
   "cell_type": "markdown",
   "metadata": {},
   "source": [
    "Ngoài ra, nhóm sẽ không loại bỏ các biến bình phương. Vì các biến dữ liệu này thường được biến đổi như một phần của Feature Engineering vì nó có thể giúp các mô hình tuyến tính tìm hiểu các mối quan hệ phi tuyến tính."
   ]
  },
  {
   "cell_type": "markdown",
   "metadata": {},
   "source": [
    "## Trích lọc đặc trưng bằng thông số thống kê"
   ]
  },
  {
   "cell_type": "markdown",
   "metadata": {},
   "source": [
    "Để kết hợp dữ liệu của từng cá nhân vào dữ liệu của cả hộ gia đình, ta cần tổng hợp dữ liệu đó cho từng hộ gia đình. Cách đơn giản nhất để thực hiện việc này là nhóm dữ liệu theo `idhogar` rồi tổng hợp dữ liệu. Tuy nhiên, các dữ liệu **boolean** có thể giống nhau, và sẽ tạo ra nhiều cột dư thừa mà sau đó chúng ta sẽ cần phải loại bỏ sau khi triển khai."
   ]
  },
  {
   "cell_type": "code",
   "execution_count": 9,
   "metadata": {},
   "outputs": [],
   "source": [
    "ind_bool = ['dis', 'male',\n",
    "            'estadocivil1', 'estadocivil2', 'estadocivil3', 'estadocivil4', 'estadocivil5', 'estadocivil6', 'estadocivil7', \n",
    "            'parentesco1', 'parentesco2',  'parentesco3', 'parentesco4', 'parentesco5', 'parentesco6', \n",
    "            'parentesco7', 'parentesco8',  'parentesco9', 'parentesco10', 'parentesco11', 'parentesco12', 'instlevel']\n",
    "\n",
    "ind_ordered = ['escolari', 'age']"
   ]
  },
  {
   "cell_type": "code",
   "execution_count": 10,
   "metadata": {},
   "outputs": [
    {
     "data": {
      "text/html": [
       "<div>\n",
       "<style scoped>\n",
       "    .dataframe tbody tr th:only-of-type {\n",
       "        vertical-align: middle;\n",
       "    }\n",
       "\n",
       "    .dataframe tbody tr th {\n",
       "        vertical-align: top;\n",
       "    }\n",
       "\n",
       "    .dataframe thead th {\n",
       "        text-align: right;\n",
       "    }\n",
       "</style>\n",
       "<table border=\"1\" class=\"dataframe\">\n",
       "  <thead>\n",
       "    <tr style=\"text-align: right;\">\n",
       "      <th></th>\n",
       "      <th>escolari-mean</th>\n",
       "      <th>escolari-max</th>\n",
       "      <th>escolari-min</th>\n",
       "      <th>escolari-sum</th>\n",
       "      <th>escolari-std_</th>\n",
       "      <th>age-mean</th>\n",
       "      <th>age-max</th>\n",
       "      <th>age-min</th>\n",
       "      <th>age-sum</th>\n",
       "      <th>age-std_</th>\n",
       "      <th>...</th>\n",
       "      <th>parentesco12-mean</th>\n",
       "      <th>parentesco12-max</th>\n",
       "      <th>parentesco12-min</th>\n",
       "      <th>parentesco12-sum</th>\n",
       "      <th>parentesco12-std_</th>\n",
       "      <th>instlevel-mean</th>\n",
       "      <th>instlevel-max</th>\n",
       "      <th>instlevel-min</th>\n",
       "      <th>instlevel-sum</th>\n",
       "      <th>instlevel-std_</th>\n",
       "    </tr>\n",
       "    <tr>\n",
       "      <th>idhogar</th>\n",
       "      <th></th>\n",
       "      <th></th>\n",
       "      <th></th>\n",
       "      <th></th>\n",
       "      <th></th>\n",
       "      <th></th>\n",
       "      <th></th>\n",
       "      <th></th>\n",
       "      <th></th>\n",
       "      <th></th>\n",
       "      <th></th>\n",
       "      <th></th>\n",
       "      <th></th>\n",
       "      <th></th>\n",
       "      <th></th>\n",
       "      <th></th>\n",
       "      <th></th>\n",
       "      <th></th>\n",
       "      <th></th>\n",
       "      <th></th>\n",
       "      <th></th>\n",
       "    </tr>\n",
       "  </thead>\n",
       "  <tbody>\n",
       "    <tr>\n",
       "      <th>000a08204</th>\n",
       "      <td>8.666667</td>\n",
       "      <td>14</td>\n",
       "      <td>0</td>\n",
       "      <td>26</td>\n",
       "      <td>6.182412</td>\n",
       "      <td>20.666667</td>\n",
       "      <td>30</td>\n",
       "      <td>4</td>\n",
       "      <td>62</td>\n",
       "      <td>11.813363</td>\n",
       "      <td>...</td>\n",
       "      <td>0.0</td>\n",
       "      <td>0</td>\n",
       "      <td>0</td>\n",
       "      <td>0</td>\n",
       "      <td>0.0</td>\n",
       "      <td>4.666667</td>\n",
       "      <td>7</td>\n",
       "      <td>0</td>\n",
       "      <td>14</td>\n",
       "      <td>3.299832</td>\n",
       "    </tr>\n",
       "    <tr>\n",
       "      <th>000bce7c4</th>\n",
       "      <td>2.500000</td>\n",
       "      <td>5</td>\n",
       "      <td>0</td>\n",
       "      <td>5</td>\n",
       "      <td>2.500000</td>\n",
       "      <td>61.500000</td>\n",
       "      <td>63</td>\n",
       "      <td>60</td>\n",
       "      <td>123</td>\n",
       "      <td>1.500000</td>\n",
       "      <td>...</td>\n",
       "      <td>0.0</td>\n",
       "      <td>0</td>\n",
       "      <td>0</td>\n",
       "      <td>0</td>\n",
       "      <td>0.0</td>\n",
       "      <td>0.500000</td>\n",
       "      <td>1</td>\n",
       "      <td>0</td>\n",
       "      <td>1</td>\n",
       "      <td>0.500000</td>\n",
       "    </tr>\n",
       "    <tr>\n",
       "      <th>001845fb0</th>\n",
       "      <td>10.250000</td>\n",
       "      <td>14</td>\n",
       "      <td>6</td>\n",
       "      <td>41</td>\n",
       "      <td>2.861381</td>\n",
       "      <td>35.500000</td>\n",
       "      <td>52</td>\n",
       "      <td>19</td>\n",
       "      <td>142</td>\n",
       "      <td>14.221463</td>\n",
       "      <td>...</td>\n",
       "      <td>0.0</td>\n",
       "      <td>0</td>\n",
       "      <td>0</td>\n",
       "      <td>0</td>\n",
       "      <td>0.0</td>\n",
       "      <td>4.000000</td>\n",
       "      <td>7</td>\n",
       "      <td>2</td>\n",
       "      <td>16</td>\n",
       "      <td>1.870829</td>\n",
       "    </tr>\n",
       "    <tr>\n",
       "      <th>001ff74ca</th>\n",
       "      <td>8.000000</td>\n",
       "      <td>16</td>\n",
       "      <td>0</td>\n",
       "      <td>16</td>\n",
       "      <td>8.000000</td>\n",
       "      <td>19.000000</td>\n",
       "      <td>38</td>\n",
       "      <td>0</td>\n",
       "      <td>38</td>\n",
       "      <td>19.000000</td>\n",
       "      <td>...</td>\n",
       "      <td>0.0</td>\n",
       "      <td>0</td>\n",
       "      <td>0</td>\n",
       "      <td>0</td>\n",
       "      <td>0.0</td>\n",
       "      <td>3.500000</td>\n",
       "      <td>7</td>\n",
       "      <td>0</td>\n",
       "      <td>7</td>\n",
       "      <td>3.500000</td>\n",
       "    </tr>\n",
       "    <tr>\n",
       "      <th>003123ec2</th>\n",
       "      <td>3.250000</td>\n",
       "      <td>7</td>\n",
       "      <td>0</td>\n",
       "      <td>13</td>\n",
       "      <td>3.269174</td>\n",
       "      <td>12.750000</td>\n",
       "      <td>24</td>\n",
       "      <td>1</td>\n",
       "      <td>51</td>\n",
       "      <td>10.779031</td>\n",
       "      <td>...</td>\n",
       "      <td>0.0</td>\n",
       "      <td>0</td>\n",
       "      <td>0</td>\n",
       "      <td>0</td>\n",
       "      <td>0.0</td>\n",
       "      <td>1.250000</td>\n",
       "      <td>3</td>\n",
       "      <td>0</td>\n",
       "      <td>5</td>\n",
       "      <td>1.299038</td>\n",
       "    </tr>\n",
       "  </tbody>\n",
       "</table>\n",
       "<p>5 rows × 120 columns</p>\n",
       "</div>"
      ],
      "text/plain": [
       "           escolari-mean  escolari-max  escolari-min  escolari-sum  \\\n",
       "idhogar                                                              \n",
       "000a08204       8.666667            14             0            26   \n",
       "000bce7c4       2.500000             5             0             5   \n",
       "001845fb0      10.250000            14             6            41   \n",
       "001ff74ca       8.000000            16             0            16   \n",
       "003123ec2       3.250000             7             0            13   \n",
       "\n",
       "           escolari-std_   age-mean  age-max  age-min  age-sum   age-std_  \\\n",
       "idhogar                                                                     \n",
       "000a08204       6.182412  20.666667       30        4       62  11.813363   \n",
       "000bce7c4       2.500000  61.500000       63       60      123   1.500000   \n",
       "001845fb0       2.861381  35.500000       52       19      142  14.221463   \n",
       "001ff74ca       8.000000  19.000000       38        0       38  19.000000   \n",
       "003123ec2       3.269174  12.750000       24        1       51  10.779031   \n",
       "\n",
       "           ...  parentesco12-mean  parentesco12-max  parentesco12-min  \\\n",
       "idhogar    ...                                                          \n",
       "000a08204  ...                0.0                 0                 0   \n",
       "000bce7c4  ...                0.0                 0                 0   \n",
       "001845fb0  ...                0.0                 0                 0   \n",
       "001ff74ca  ...                0.0                 0                 0   \n",
       "003123ec2  ...                0.0                 0                 0   \n",
       "\n",
       "           parentesco12-sum  parentesco12-std_  instlevel-mean  instlevel-max  \\\n",
       "idhogar                                                                         \n",
       "000a08204                 0                0.0        4.666667              7   \n",
       "000bce7c4                 0                0.0        0.500000              1   \n",
       "001845fb0                 0                0.0        4.000000              7   \n",
       "001ff74ca                 0                0.0        3.500000              7   \n",
       "003123ec2                 0                0.0        1.250000              3   \n",
       "\n",
       "           instlevel-min  instlevel-sum  instlevel-std_  \n",
       "idhogar                                                  \n",
       "000a08204              0             14        3.299832  \n",
       "000bce7c4              0              1        0.500000  \n",
       "001845fb0              2             16        1.870829  \n",
       "001ff74ca              0              7        3.500000  \n",
       "003123ec2              0              5        1.299038  \n",
       "\n",
       "[5 rows x 120 columns]"
      ]
     },
     "execution_count": 10,
     "metadata": {},
     "output_type": "execute_result"
    }
   ],
   "source": [
    "f = lambda x: x.std(ddof=0)\n",
    "f.__name__ = 'std_'\n",
    "ind_agg = all_data.groupby('idhogar')[ind_ordered + ind_bool].agg(['mean', 'max', 'min', 'sum', f])\n",
    "\n",
    "new_cols = []\n",
    "for col in ind_agg.columns.levels[0]:\n",
    "    for stat in ind_agg.columns.levels[1]:\n",
    "        new_cols.append(f'{col}-{stat}')\n",
    "\n",
    "ind_agg.columns = new_cols\n",
    "ind_agg.head()"
   ]
  },
  {
   "cell_type": "code",
   "execution_count": 11,
   "metadata": {},
   "outputs": [
    {
     "name": "stdout",
     "output_type": "stream",
     "text": [
      "There are 2 correlated columns to remove\n"
     ]
    }
   ],
   "source": [
    "corr_matrix = ind_agg.corr()\n",
    "upper = corr_matrix.where(np.triu(np.ones(corr_matrix.shape), k=1).astype(bool))\n",
    "\n",
    "to_drop = [column for column in upper.columns if any((abs(upper[column]) > 0.95) & (abs(upper[column]) == 1))]\n",
    "print(f'There are {len(to_drop)} correlated columns to remove')"
   ]
  },
  {
   "cell_type": "code",
   "execution_count": 12,
   "metadata": {},
   "outputs": [
    {
     "name": "stdout",
     "output_type": "stream",
     "text": [
      "Number of features after dropping the individual level features 213\n"
     ]
    }
   ],
   "source": [
    "all_data = all_data.merge(ind_agg, on = 'idhogar', how = 'left')\n",
    "all_data.drop(columns=ind_bool+ind_ordered+to_drop, inplace=True)\n",
    "print('Number of features after dropping the individual level features', all_data.shape[1])"
   ]
  },
  {
   "cell_type": "markdown",
   "metadata": {},
   "source": [
    "## Tạo thêm cột phụ biểu hiện thêm thông tin của hộ gia đình"
   ]
  },
  {
   "cell_type": "markdown",
   "metadata": {},
   "source": [
    "Trong một hộ gia đình, cần biết rằng người trưởng thành có khả năng làm việc là trụ cột của gia đình, trẻ em và người lớn trên 65 tuổi thì không làm việc. Do đó việc quyết định việc xem xét đánh giá tình trạng của một gia đình không phụ thuộc nhiều vào tỉ lệ các nhóm đối tượng trong hộ gia đình. Vì vậy ta sẽ tạo thêm một số cột liên quan đến vấn đề này."
   ]
  },
  {
   "cell_type": "code",
   "execution_count": 13,
   "metadata": {},
   "outputs": [],
   "source": [
    "def extract_features(df):\n",
    "    df['adult_num'] = df['hogar_adul'] - df['hogar_mayor'] # số lượng người trưởng thành còn khả năng làm việc\n",
    "    df['head_is_adult'] = (df['adult_num'] > 0).astype(int) # có người trưởng thành là trụ cột\n",
    "    df['adult_rate'] = df['adult_num'] / df['hogar_total'] # tỉ lệ người trưởng thành\n",
    "    \n",
    "    df['dependency_num'] = df['hogar_nin'] + df['hogar_mayor'] # số người phụ thuộc\n",
    "    df['dependency_rate'] = df['dependency_num'] / df['hogar_total'] # tỉ lệ phụ thuộc\n",
    "    \n",
    "    df['adult_dependency_rate'] = df['adult_num'] / (df['dependency_num'] + 0.1) # tỉ lệ người trưởng thành trên người phụ thuọc\n",
    "    df['children_rate'] = df['hogar_nin'] / df['hogar_total'] # tỉ lệ trẻ em trong gia đình\n",
    "    df['elder_rate'] = df['hogar_mayor'] / df['hogar_total'] # tỉ lệ người già trong gia đình\n",
    "\n",
    "    df['rent_per_person'] = df['v2a1'] / df['hogar_total'] # giá thuê nhà tính trên mỗi người\n",
    "    df['rent_per_adult'] = df['v2a1'] / (df['adult_num'] + 0.1) # gía thuê nhà tính trên người thưởng thành\n",
    "\n",
    "    df['bedroom_per_person'] = df['bedrooms'] / df['hogar_total'] # số lượng người trung bình mỗi phòng\n",
    "    df['bedroom_per_adult'] = df['bedrooms'] / (df['adult_num'] + 0.1) # số lượng người trung bình mỗi phòng cho người trưởng thành\n",
    "    \n",
    "extract_features(all_data)"
   ]
  },
  {
   "cell_type": "markdown",
   "metadata": {},
   "source": [
    "## Feature scaling"
   ]
  },
  {
   "cell_type": "markdown",
   "metadata": {},
   "source": [
    "Đối với cột có giá trị lớn (từ 100-100000), nhóm sẽ dùng `Standard Scaler` để đưa dữ liệu về phân phối chuẩn.\n",
    "\n",
    "Đối với các cột còn lại, nhóm sẽ dùng `MinMax Scaler` để đưa giá trị về khoảng (0,1)."
   ]
  },
  {
   "cell_type": "code",
   "execution_count": 14,
   "metadata": {},
   "outputs": [],
   "source": [
    "from sklearn.preprocessing import StandardScaler, MinMaxScaler\n",
    "\n",
    "col_std = ['v2a1', 'rent_per_person', 'rent_per_adult']\n",
    "col_minmax = list(set(all_data.drop(columns=['Id', 'idhogar', 'Target']).columns) - set(col_std))\n",
    "\n",
    "std_scaler = StandardScaler()\n",
    "minmax_scaler = MinMaxScaler()\n",
    "\n",
    "all_data[col_std] = std_scaler.fit_transform(all_data[col_std])\n",
    "all_data[col_minmax] = minmax_scaler.fit_transform(all_data[col_minmax])"
   ]
  },
  {
   "cell_type": "markdown",
   "metadata": {},
   "source": [
    "## Triển khai mô hình"
   ]
  },
  {
   "cell_type": "markdown",
   "metadata": {},
   "source": [
    "### Chuẩn bị dữ liệu"
   ]
  },
  {
   "cell_type": "code",
   "execution_count": 15,
   "metadata": {},
   "outputs": [],
   "source": [
    "train = all_data[:ntrain][:]\n",
    "test = all_data[ntrain:][:]"
   ]
  },
  {
   "cell_type": "markdown",
   "metadata": {},
   "source": [
    "Lấy dữ liệu dùng để huấn luyện model từ tập `train`."
   ]
  },
  {
   "cell_type": "code",
   "execution_count": 16,
   "metadata": {},
   "outputs": [],
   "source": [
    "X = train.drop(columns=['Id', 'idhogar', 'Target'])\n",
    "y = train.Target.to_numpy().astype('int') - 1"
   ]
  },
  {
   "cell_type": "markdown",
   "metadata": {},
   "source": [
    "Lấy dữ liệu dùng để huấn luyện từ tập `test`."
   ]
  },
  {
   "cell_type": "code",
   "execution_count": 17,
   "metadata": {},
   "outputs": [],
   "source": [
    "data_test_id = list(test.Id)\n",
    "data_test = test.drop(columns=['Id', 'idhogar', 'Target'])"
   ]
  },
  {
   "cell_type": "markdown",
   "metadata": {},
   "source": [
    "### Xử lý mất cân bằng dữ liệu"
   ]
  },
  {
   "cell_type": "code",
   "execution_count": 18,
   "metadata": {},
   "outputs": [
    {
     "name": "stdout",
     "output_type": "stream",
     "text": [
      "Tỉ lệ các label để train  Target\n",
      "4.0    0.627394\n",
      "2.0    0.167103\n",
      "3.0    0.126504\n",
      "1.0    0.079000\n",
      "Name: count, dtype: float64\n"
     ]
    }
   ],
   "source": [
    "print('Tỉ lệ các label để train ',\n",
    "      train['Target'].value_counts()/train.shape[0])"
   ]
  },
  {
   "cell_type": "markdown",
   "metadata": {},
   "source": [
    "Theo tỉ lệ trên có thể thấy được label 4 gấp 10 lần label 1. Nếu không\n",
    "xử lý có thể làm mô hình dự đoán không hiệu quả.\n",
    "\n",
    "**Cách xử lý:** Gán cho mỗi label một trọng số. Trọng số này tỉ lệ nghịch với\n",
    "số lượng label. Dữ liệu nào ít nhãn thì có trọng số cao."
   ]
  },
  {
   "cell_type": "code",
   "execution_count": 19,
   "metadata": {},
   "outputs": [
    {
     "name": "stdout",
     "output_type": "stream",
     "text": [
      "   Target    Weight\n",
      "0       0  3.164570\n",
      "1       1  1.496086\n",
      "2       2  1.976220\n",
      "3       3  0.398474\n"
     ]
    }
   ],
   "source": [
    "from sklearn.utils import class_weight\n",
    "\n",
    "y_weights = class_weight.compute_sample_weight('balanced', y, indices=None)\n",
    "print(pd.DataFrame(dict(Target = y, Weight = y_weights)).drop_duplicates().sort_values(by = [\"Target\"]).reset_index(drop = True))"
   ]
  },
  {
   "cell_type": "markdown",
   "metadata": {},
   "source": [
    "Bằng cách này, mô hình chú ý nhiều hơn đến label thiểu số và đưa ra\n",
    "những dự đoán tốt hơn cho label đó."
   ]
  },
  {
   "cell_type": "markdown",
   "metadata": {},
   "source": [
    "Chia dữ liệu huấn luyện thành tập train và test."
   ]
  },
  {
   "cell_type": "code",
   "execution_count": 20,
   "metadata": {},
   "outputs": [],
   "source": [
    "from sklearn.model_selection import train_test_split\n",
    "X_train,X_test,y_train,y_test, weights_train,weights_test = train_test_split(X,y,y_weights,test_size=0.2, random_state=1)"
   ]
  },
  {
   "cell_type": "markdown",
   "metadata": {},
   "source": [
    "### Xây dựng mô hình"
   ]
  },
  {
   "cell_type": "code",
   "execution_count": 21,
   "metadata": {},
   "outputs": [],
   "source": [
    "from sklearn.metrics import f1_score\n",
    "from sklearn.metrics import classification_report"
   ]
  },
  {
   "cell_type": "markdown",
   "metadata": {},
   "source": [
    "#### K-Nearest Neighbors Classifier"
   ]
  },
  {
   "cell_type": "code",
   "execution_count": 22,
   "metadata": {},
   "outputs": [
    {
     "name": "stdout",
     "output_type": "stream",
     "text": [
      "              precision    recall  f1-score   support\n",
      "\n",
      "     class 1       0.74      0.78      0.76       147\n",
      "     class 2       0.74      0.75      0.75       333\n",
      "     class 3       0.68      0.69      0.68       229\n",
      "     class 4       0.90      0.89      0.90      1203\n",
      "\n",
      "    accuracy                           0.83      1912\n",
      "   macro avg       0.76      0.78      0.77      1912\n",
      "weighted avg       0.84      0.83      0.83      1912\n",
      "\n",
      "F1 score macro:  0.7712625363305321\n"
     ]
    }
   ],
   "source": [
    "from sklearn.neighbors import KNeighborsClassifier\n",
    "\n",
    "model_knn = KNeighborsClassifier(n_neighbors=4)\n",
    "\n",
    "model_knn.fit(X_train,y_train)\n",
    "\n",
    "print(classification_report(y_test, model_knn.predict(X_test),target_names=['class 1', 'class 2', 'class 3','class 4']))\n",
    "print(\"F1 score macro: \", f1_score(y_test, model_knn.predict(X_test), average = 'macro'))"
   ]
  },
  {
   "cell_type": "markdown",
   "metadata": {},
   "source": [
    "#### Random Forest Classifier"
   ]
  },
  {
   "cell_type": "code",
   "execution_count": 23,
   "metadata": {},
   "outputs": [
    {
     "name": "stdout",
     "output_type": "stream",
     "text": [
      "              precision    recall  f1-score   support\n",
      "\n",
      "     class 1       0.95      0.88      0.92       147\n",
      "     class 2       0.94      0.92      0.93       333\n",
      "     class 3       0.94      0.89      0.91       229\n",
      "     class 4       0.96      0.99      0.98      1203\n",
      "\n",
      "    accuracy                           0.96      1912\n",
      "   macro avg       0.95      0.92      0.93      1912\n",
      "weighted avg       0.96      0.96      0.96      1912\n",
      "\n",
      "F1 score macro:  0.9335900808466069\n"
     ]
    }
   ],
   "source": [
    "from sklearn.ensemble import RandomForestClassifier\n",
    "\n",
    "model_rfc = RandomForestClassifier(n_estimators=100,\n",
    "                                     criterion='log_loss',\n",
    "                                     max_features=None,\n",
    "                                     class_weight='balanced_subsample',)\n",
    "\n",
    "model_rfc.fit(X_train, y_train, **{'sample_weight': weights_train})\n",
    "\n",
    "print(classification_report(y_test, model_rfc.predict(X_test), target_names=['class 1', 'class 2', 'class 3', 'class 4']))\n",
    "print(\"F1 score macro: \", f1_score(y_test, model_rfc.predict(X_test), average = 'macro'))"
   ]
  },
  {
   "cell_type": "markdown",
   "metadata": {},
   "source": [
    "#### Gradient Boosting Classifier"
   ]
  },
  {
   "cell_type": "code",
   "execution_count": 25,
   "metadata": {},
   "outputs": [
    {
     "name": "stdout",
     "output_type": "stream",
     "text": [
      "              precision    recall  f1-score   support\n",
      "\n",
      "     class 1       0.93      0.89      0.91       147\n",
      "     class 2       0.94      0.91      0.93       333\n",
      "     class 3       0.92      0.91      0.91       229\n",
      "     class 4       0.97      0.99      0.98      1203\n",
      "\n",
      "    accuracy                           0.96      1912\n",
      "   macro avg       0.94      0.93      0.93      1912\n",
      "weighted avg       0.96      0.96      0.96      1912\n",
      "\n",
      "F1 score macro:  0.932901778755064\n"
     ]
    }
   ],
   "source": [
    "from sklearn.ensemble import GradientBoostingClassifier\\\n",
    "\n",
    "model_gbc = GradientBoostingClassifier()\n",
    "\n",
    "best_param =  {'learning_rate': 0.3, \n",
    "               'max_depth': 7, \n",
    "               'n_estimators': 200}\n",
    "\n",
    "\n",
    "model_gbc.set_params(**best_param) # set siêu tham số cho mô hình\n",
    "\n",
    "model_gbc.fit(X_train, y_train, **{'sample_weight': weights_train})\n",
    "\n",
    "print(classification_report(y_test, model_gbc.predict(X_test),target_names=['class 1', 'class 2', 'class 3','class 4']))\n",
    "print(\"F1 score macro: \", f1_score(y_test, model_gbc.predict(X_test), average = 'macro'))"
   ]
  },
  {
   "cell_type": "markdown",
   "metadata": {},
   "source": [
    "#### XGBoost Classifier"
   ]
  },
  {
   "cell_type": "code",
   "execution_count": 26,
   "metadata": {},
   "outputs": [
    {
     "name": "stdout",
     "output_type": "stream",
     "text": [
      "              precision    recall  f1-score   support\n",
      "\n",
      "     class 1       0.91      0.88      0.89       147\n",
      "     class 2       0.94      0.92      0.93       333\n",
      "     class 3       0.92      0.90      0.91       229\n",
      "     class 4       0.97      0.99      0.98      1203\n",
      "\n",
      "    accuracy                           0.96      1912\n",
      "   macro avg       0.94      0.92      0.93      1912\n",
      "weighted avg       0.96      0.96      0.96      1912\n",
      "\n",
      "F1 score macro:  0.9273183963390006\n"
     ]
    }
   ],
   "source": [
    "from xgboost import XGBClassifier\n",
    "\n",
    "model_xgb = XGBClassifier(\n",
    "    booster='gbtree',\n",
    "    learning_rate=0.1,\n",
    "    n_estimators=1200,\n",
    "    max_depth=6,\n",
    "    min_child_weight=1,\n",
    "    gamma=0,\n",
    "    subsample=0.8,\n",
    "    colsample_bytree=0.8,\n",
    "    objective='multi:softmax',\n",
    "    num_class=4,\n",
    "    reg_alpha=0,\n",
    "    reg_lambda=1,\n",
    "    random_state=42,\n",
    "    verbosity=0\n",
    ") \n",
    "\n",
    "model_xgb.fit(X_train, y_train)\n",
    "\n",
    "print(classification_report(y_test, model_xgb.predict(X_test), target_names=['class 1', 'class 2', 'class 3', 'class 4']))\n",
    "print(\"F1 score macro: \", f1_score(y_test, model_xgb.predict(X_test), average = 'macro'))"
   ]
  },
  {
   "cell_type": "markdown",
   "metadata": {},
   "source": [
    "#### Light GBM"
   ]
  },
  {
   "cell_type": "code",
   "execution_count": 27,
   "metadata": {},
   "outputs": [
    {
     "name": "stdout",
     "output_type": "stream",
     "text": [
      "              precision    recall  f1-score   support\n",
      "\n",
      "     class 1       0.87      0.88      0.88       147\n",
      "     class 2       0.92      0.92      0.92       333\n",
      "     class 3       0.87      0.90      0.89       229\n",
      "     class 4       0.98      0.97      0.97      1203\n",
      "\n",
      "    accuracy                           0.95      1912\n",
      "   macro avg       0.91      0.92      0.91      1912\n",
      "weighted avg       0.95      0.95      0.95      1912\n",
      "\n",
      "F1 score macro:  0.9143556147897771\n"
     ]
    }
   ],
   "source": [
    "import lightgbm as lgb\n",
    "\n",
    "model_lgbm = lgb.LGBMClassifier(class_weight='balanced', boosting_type='dart',\n",
    "                                drop_rate=0.9, min_data_in_leaf=100, \n",
    "                                max_bin=255,\n",
    "                                n_estimators=500,\n",
    "                                bagging_fraction=0.01,\n",
    "                                min_sum_hessian_in_leaf=1,\n",
    "                                importance_type='gain',\n",
    "                                learning_rate=0.1, \n",
    "                                max_depth=-1, \n",
    "                                num_leaves=31,\n",
    "                                verbose=-1)\n",
    "\n",
    "model_lgbm = model_lgbm.fit(X_train, y_train)\n",
    "\n",
    "print(classification_report(y_test, model_lgbm.predict(X_test),target_names=['class 1', 'class 2', 'class 3','class 4']))\n",
    "print(\"F1 score macro: \", f1_score(y_test, model_lgbm.predict(X_test), average = 'macro'))\n"
   ]
  },
  {
   "cell_type": "markdown",
   "metadata": {},
   "source": [
    "### Submit"
   ]
  },
  {
   "cell_type": "code",
   "execution_count": 28,
   "metadata": {},
   "outputs": [],
   "source": [
    "knn_submission = pd.DataFrame({'Id': data_test_id, 'Target': model_knn.predict(data_test)+1})\n",
    "knn_submission.to_csv('submission_knn.csv', index = False)"
   ]
  },
  {
   "cell_type": "code",
   "execution_count": 29,
   "metadata": {},
   "outputs": [],
   "source": [
    "rfc_submission = pd.DataFrame({'Id': data_test_id, 'Target': model_rfc.predict(data_test)+1})\n",
    "rfc_submission.to_csv('submission_rfc.csv', index = False)"
   ]
  },
  {
   "cell_type": "code",
   "execution_count": 30,
   "metadata": {},
   "outputs": [],
   "source": [
    "gbc_submission = pd.DataFrame({'Id': data_test_id, 'Target': model_gbc.predict(data_test)+1})\n",
    "gbc_submission.to_csv('submission_gbc.csv', index = False)"
   ]
  },
  {
   "cell_type": "code",
   "execution_count": 31,
   "metadata": {},
   "outputs": [],
   "source": [
    "xgb_submission = pd.DataFrame({'Id': data_test_id, 'Target': model_xgb.predict(data_test)+1})\n",
    "xgb_submission.to_csv('submission_xgb.csv', index = False)"
   ]
  },
  {
   "cell_type": "code",
   "execution_count": 32,
   "metadata": {},
   "outputs": [],
   "source": [
    "lgbm_submission = pd.DataFrame({'Id': data_test_id, 'Target': model_lgbm.predict(data_test)+1})\n",
    "lgbm_submission.to_csv('submission_lgb.csv', index = False)"
   ]
  }
 ],
 "metadata": {
  "kernelspec": {
   "display_name": "min_ds-env",
   "language": "python",
   "name": "python3"
  },
  "language_info": {
   "codemirror_mode": {
    "name": "ipython",
    "version": 3
   },
   "file_extension": ".py",
   "mimetype": "text/x-python",
   "name": "python",
   "nbconvert_exporter": "python",
   "pygments_lexer": "ipython3",
   "version": "3.11.9"
  }
 },
 "nbformat": 4,
 "nbformat_minor": 2
}
