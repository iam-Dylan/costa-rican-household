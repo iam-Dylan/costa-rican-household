{
 "cells": [
  {
   "cell_type": "markdown",
   "metadata": {},
   "source": [
    "# Import thư viện cần thiết"
   ]
  },
  {
   "cell_type": "code",
   "execution_count": 1,
   "metadata": {},
   "outputs": [],
   "source": [
    "import warnings\n",
    "warnings.simplefilter(action='ignore', category=FutureWarning)\n",
    "import pandas as pd\n",
    "from sklearn.model_selection import train_test_split\n",
    "import numpy as np\n",
    "from sklearn.utils import class_weight\n",
    "import matplotlib.pyplot as plt\n",
    "import seaborn as sns\n",
    "from sklearn.ensemble import GradientBoostingClassifier\n",
    "from sklearn.pipeline import Pipeline\n",
    "from sklearn.compose import ColumnTransformer\n",
    "from sklearn.preprocessing import StandardScaler, MinMaxScaler\n",
    "from sklearn.model_selection import GridSearchCV\n",
    "from sklearn.metrics import make_scorer, f1_score"
   ]
  },
  {
   "cell_type": "markdown",
   "metadata": {},
   "source": [
    "Đọc dữ liệu"
   ]
  },
  {
   "cell_type": "code",
   "execution_count": 2,
   "metadata": {},
   "outputs": [
    {
     "data": {
      "text/html": [
       "<div>\n",
       "<style scoped>\n",
       "    .dataframe tbody tr th:only-of-type {\n",
       "        vertical-align: middle;\n",
       "    }\n",
       "\n",
       "    .dataframe tbody tr th {\n",
       "        vertical-align: top;\n",
       "    }\n",
       "\n",
       "    .dataframe thead th {\n",
       "        text-align: right;\n",
       "    }\n",
       "</style>\n",
       "<table border=\"1\" class=\"dataframe\">\n",
       "  <thead>\n",
       "    <tr style=\"text-align: right;\">\n",
       "      <th></th>\n",
       "      <th>Id</th>\n",
       "      <th>v2a1</th>\n",
       "      <th>hacdor</th>\n",
       "      <th>rooms</th>\n",
       "      <th>hacapo</th>\n",
       "      <th>v14a</th>\n",
       "      <th>refrig</th>\n",
       "      <th>v18q</th>\n",
       "      <th>v18q1</th>\n",
       "      <th>r4h1</th>\n",
       "      <th>...</th>\n",
       "      <th>SQBescolari</th>\n",
       "      <th>SQBage</th>\n",
       "      <th>SQBhogar_total</th>\n",
       "      <th>SQBedjefe</th>\n",
       "      <th>SQBhogar_nin</th>\n",
       "      <th>SQBovercrowding</th>\n",
       "      <th>SQBdependency</th>\n",
       "      <th>SQBmeaned</th>\n",
       "      <th>agesq</th>\n",
       "      <th>Target</th>\n",
       "    </tr>\n",
       "  </thead>\n",
       "  <tbody>\n",
       "    <tr>\n",
       "      <th>0</th>\n",
       "      <td>ID_279628684</td>\n",
       "      <td>190000.0</td>\n",
       "      <td>0</td>\n",
       "      <td>3</td>\n",
       "      <td>0</td>\n",
       "      <td>1</td>\n",
       "      <td>1</td>\n",
       "      <td>0</td>\n",
       "      <td>0.0</td>\n",
       "      <td>0</td>\n",
       "      <td>...</td>\n",
       "      <td>100</td>\n",
       "      <td>1849</td>\n",
       "      <td>1</td>\n",
       "      <td>100</td>\n",
       "      <td>0</td>\n",
       "      <td>1.000000</td>\n",
       "      <td>0.0</td>\n",
       "      <td>100.0</td>\n",
       "      <td>1849</td>\n",
       "      <td>4</td>\n",
       "    </tr>\n",
       "    <tr>\n",
       "      <th>1</th>\n",
       "      <td>ID_f29eb3ddd</td>\n",
       "      <td>135000.0</td>\n",
       "      <td>0</td>\n",
       "      <td>4</td>\n",
       "      <td>0</td>\n",
       "      <td>1</td>\n",
       "      <td>1</td>\n",
       "      <td>1</td>\n",
       "      <td>1.0</td>\n",
       "      <td>0</td>\n",
       "      <td>...</td>\n",
       "      <td>144</td>\n",
       "      <td>4489</td>\n",
       "      <td>1</td>\n",
       "      <td>144</td>\n",
       "      <td>0</td>\n",
       "      <td>1.000000</td>\n",
       "      <td>64.0</td>\n",
       "      <td>144.0</td>\n",
       "      <td>4489</td>\n",
       "      <td>4</td>\n",
       "    </tr>\n",
       "    <tr>\n",
       "      <th>2</th>\n",
       "      <td>ID_68de51c94</td>\n",
       "      <td>0.0</td>\n",
       "      <td>0</td>\n",
       "      <td>8</td>\n",
       "      <td>0</td>\n",
       "      <td>1</td>\n",
       "      <td>1</td>\n",
       "      <td>0</td>\n",
       "      <td>0.0</td>\n",
       "      <td>0</td>\n",
       "      <td>...</td>\n",
       "      <td>121</td>\n",
       "      <td>8464</td>\n",
       "      <td>1</td>\n",
       "      <td>0</td>\n",
       "      <td>0</td>\n",
       "      <td>0.250000</td>\n",
       "      <td>64.0</td>\n",
       "      <td>121.0</td>\n",
       "      <td>8464</td>\n",
       "      <td>4</td>\n",
       "    </tr>\n",
       "    <tr>\n",
       "      <th>3</th>\n",
       "      <td>ID_d671db89c</td>\n",
       "      <td>180000.0</td>\n",
       "      <td>0</td>\n",
       "      <td>5</td>\n",
       "      <td>0</td>\n",
       "      <td>1</td>\n",
       "      <td>1</td>\n",
       "      <td>1</td>\n",
       "      <td>1.0</td>\n",
       "      <td>0</td>\n",
       "      <td>...</td>\n",
       "      <td>81</td>\n",
       "      <td>289</td>\n",
       "      <td>16</td>\n",
       "      <td>121</td>\n",
       "      <td>4</td>\n",
       "      <td>1.777778</td>\n",
       "      <td>1.0</td>\n",
       "      <td>121.0</td>\n",
       "      <td>289</td>\n",
       "      <td>4</td>\n",
       "    </tr>\n",
       "    <tr>\n",
       "      <th>4</th>\n",
       "      <td>ID_d56d6f5f5</td>\n",
       "      <td>180000.0</td>\n",
       "      <td>0</td>\n",
       "      <td>5</td>\n",
       "      <td>0</td>\n",
       "      <td>1</td>\n",
       "      <td>1</td>\n",
       "      <td>1</td>\n",
       "      <td>1.0</td>\n",
       "      <td>0</td>\n",
       "      <td>...</td>\n",
       "      <td>121</td>\n",
       "      <td>1369</td>\n",
       "      <td>16</td>\n",
       "      <td>121</td>\n",
       "      <td>4</td>\n",
       "      <td>1.777778</td>\n",
       "      <td>1.0</td>\n",
       "      <td>121.0</td>\n",
       "      <td>1369</td>\n",
       "      <td>4</td>\n",
       "    </tr>\n",
       "  </tbody>\n",
       "</table>\n",
       "<p>5 rows × 143 columns</p>\n",
       "</div>"
      ],
      "text/plain": [
       "             Id      v2a1  hacdor  rooms  hacapo  v14a  refrig  v18q  v18q1  \\\n",
       "0  ID_279628684  190000.0       0      3       0     1       1     0    0.0   \n",
       "1  ID_f29eb3ddd  135000.0       0      4       0     1       1     1    1.0   \n",
       "2  ID_68de51c94       0.0       0      8       0     1       1     0    0.0   \n",
       "3  ID_d671db89c  180000.0       0      5       0     1       1     1    1.0   \n",
       "4  ID_d56d6f5f5  180000.0       0      5       0     1       1     1    1.0   \n",
       "\n",
       "   r4h1  ...  SQBescolari  SQBage  SQBhogar_total  SQBedjefe  SQBhogar_nin  \\\n",
       "0     0  ...          100    1849               1        100             0   \n",
       "1     0  ...          144    4489               1        144             0   \n",
       "2     0  ...          121    8464               1          0             0   \n",
       "3     0  ...           81     289              16        121             4   \n",
       "4     0  ...          121    1369              16        121             4   \n",
       "\n",
       "   SQBovercrowding  SQBdependency  SQBmeaned  agesq  Target  \n",
       "0         1.000000            0.0      100.0   1849       4  \n",
       "1         1.000000           64.0      144.0   4489       4  \n",
       "2         0.250000           64.0      121.0   8464       4  \n",
       "3         1.777778            1.0      121.0    289       4  \n",
       "4         1.777778            1.0      121.0   1369       4  \n",
       "\n",
       "[5 rows x 143 columns]"
      ]
     },
     "execution_count": 2,
     "metadata": {},
     "output_type": "execute_result"
    }
   ],
   "source": [
    "train = pd.read_csv('../data/train_preprocessed.csv')\n",
    "train.head()"
   ]
  },
  {
   "cell_type": "code",
   "execution_count": 3,
   "metadata": {},
   "outputs": [
    {
     "data": {
      "text/html": [
       "<div>\n",
       "<style scoped>\n",
       "    .dataframe tbody tr th:only-of-type {\n",
       "        vertical-align: middle;\n",
       "    }\n",
       "\n",
       "    .dataframe tbody tr th {\n",
       "        vertical-align: top;\n",
       "    }\n",
       "\n",
       "    .dataframe thead th {\n",
       "        text-align: right;\n",
       "    }\n",
       "</style>\n",
       "<table border=\"1\" class=\"dataframe\">\n",
       "  <thead>\n",
       "    <tr style=\"text-align: right;\">\n",
       "      <th></th>\n",
       "      <th>Id</th>\n",
       "      <th>v2a1</th>\n",
       "      <th>hacdor</th>\n",
       "      <th>rooms</th>\n",
       "      <th>hacapo</th>\n",
       "      <th>v14a</th>\n",
       "      <th>refrig</th>\n",
       "      <th>v18q</th>\n",
       "      <th>v18q1</th>\n",
       "      <th>r4h1</th>\n",
       "      <th>...</th>\n",
       "      <th>age</th>\n",
       "      <th>SQBescolari</th>\n",
       "      <th>SQBage</th>\n",
       "      <th>SQBhogar_total</th>\n",
       "      <th>SQBedjefe</th>\n",
       "      <th>SQBhogar_nin</th>\n",
       "      <th>SQBovercrowding</th>\n",
       "      <th>SQBdependency</th>\n",
       "      <th>SQBmeaned</th>\n",
       "      <th>agesq</th>\n",
       "    </tr>\n",
       "  </thead>\n",
       "  <tbody>\n",
       "    <tr>\n",
       "      <th>0</th>\n",
       "      <td>ID_2f6873615</td>\n",
       "      <td>0.0</td>\n",
       "      <td>0</td>\n",
       "      <td>5</td>\n",
       "      <td>0</td>\n",
       "      <td>1</td>\n",
       "      <td>1</td>\n",
       "      <td>0</td>\n",
       "      <td>0.0</td>\n",
       "      <td>1</td>\n",
       "      <td>...</td>\n",
       "      <td>4</td>\n",
       "      <td>0</td>\n",
       "      <td>16</td>\n",
       "      <td>9</td>\n",
       "      <td>0</td>\n",
       "      <td>1</td>\n",
       "      <td>2.25</td>\n",
       "      <td>0.25</td>\n",
       "      <td>272.25</td>\n",
       "      <td>16</td>\n",
       "    </tr>\n",
       "    <tr>\n",
       "      <th>1</th>\n",
       "      <td>ID_1c78846d2</td>\n",
       "      <td>0.0</td>\n",
       "      <td>0</td>\n",
       "      <td>5</td>\n",
       "      <td>0</td>\n",
       "      <td>1</td>\n",
       "      <td>1</td>\n",
       "      <td>0</td>\n",
       "      <td>0.0</td>\n",
       "      <td>1</td>\n",
       "      <td>...</td>\n",
       "      <td>41</td>\n",
       "      <td>256</td>\n",
       "      <td>1681</td>\n",
       "      <td>9</td>\n",
       "      <td>0</td>\n",
       "      <td>1</td>\n",
       "      <td>2.25</td>\n",
       "      <td>0.25</td>\n",
       "      <td>272.25</td>\n",
       "      <td>1681</td>\n",
       "    </tr>\n",
       "    <tr>\n",
       "      <th>2</th>\n",
       "      <td>ID_e5442cf6a</td>\n",
       "      <td>0.0</td>\n",
       "      <td>0</td>\n",
       "      <td>5</td>\n",
       "      <td>0</td>\n",
       "      <td>1</td>\n",
       "      <td>1</td>\n",
       "      <td>0</td>\n",
       "      <td>0.0</td>\n",
       "      <td>1</td>\n",
       "      <td>...</td>\n",
       "      <td>41</td>\n",
       "      <td>289</td>\n",
       "      <td>1681</td>\n",
       "      <td>9</td>\n",
       "      <td>0</td>\n",
       "      <td>1</td>\n",
       "      <td>2.25</td>\n",
       "      <td>0.25</td>\n",
       "      <td>272.25</td>\n",
       "      <td>1681</td>\n",
       "    </tr>\n",
       "    <tr>\n",
       "      <th>3</th>\n",
       "      <td>ID_a8db26a79</td>\n",
       "      <td>0.0</td>\n",
       "      <td>0</td>\n",
       "      <td>14</td>\n",
       "      <td>0</td>\n",
       "      <td>1</td>\n",
       "      <td>1</td>\n",
       "      <td>1</td>\n",
       "      <td>1.0</td>\n",
       "      <td>0</td>\n",
       "      <td>...</td>\n",
       "      <td>59</td>\n",
       "      <td>256</td>\n",
       "      <td>3481</td>\n",
       "      <td>1</td>\n",
       "      <td>256</td>\n",
       "      <td>0</td>\n",
       "      <td>1.00</td>\n",
       "      <td>0.00</td>\n",
       "      <td>256.00</td>\n",
       "      <td>3481</td>\n",
       "    </tr>\n",
       "    <tr>\n",
       "      <th>4</th>\n",
       "      <td>ID_a62966799</td>\n",
       "      <td>175000.0</td>\n",
       "      <td>0</td>\n",
       "      <td>4</td>\n",
       "      <td>0</td>\n",
       "      <td>1</td>\n",
       "      <td>1</td>\n",
       "      <td>1</td>\n",
       "      <td>1.0</td>\n",
       "      <td>0</td>\n",
       "      <td>...</td>\n",
       "      <td>18</td>\n",
       "      <td>121</td>\n",
       "      <td>324</td>\n",
       "      <td>1</td>\n",
       "      <td>0</td>\n",
       "      <td>1</td>\n",
       "      <td>0.25</td>\n",
       "      <td>64.00</td>\n",
       "      <td>121.00</td>\n",
       "      <td>324</td>\n",
       "    </tr>\n",
       "  </tbody>\n",
       "</table>\n",
       "<p>5 rows × 142 columns</p>\n",
       "</div>"
      ],
      "text/plain": [
       "             Id      v2a1  hacdor  rooms  hacapo  v14a  refrig  v18q  v18q1  \\\n",
       "0  ID_2f6873615       0.0       0      5       0     1       1     0    0.0   \n",
       "1  ID_1c78846d2       0.0       0      5       0     1       1     0    0.0   \n",
       "2  ID_e5442cf6a       0.0       0      5       0     1       1     0    0.0   \n",
       "3  ID_a8db26a79       0.0       0     14       0     1       1     1    1.0   \n",
       "4  ID_a62966799  175000.0       0      4       0     1       1     1    1.0   \n",
       "\n",
       "   r4h1  ...  age  SQBescolari  SQBage  SQBhogar_total  SQBedjefe  \\\n",
       "0     1  ...    4            0      16               9          0   \n",
       "1     1  ...   41          256    1681               9          0   \n",
       "2     1  ...   41          289    1681               9          0   \n",
       "3     0  ...   59          256    3481               1        256   \n",
       "4     0  ...   18          121     324               1          0   \n",
       "\n",
       "   SQBhogar_nin  SQBovercrowding  SQBdependency  SQBmeaned  agesq  \n",
       "0             1             2.25           0.25     272.25     16  \n",
       "1             1             2.25           0.25     272.25   1681  \n",
       "2             1             2.25           0.25     272.25   1681  \n",
       "3             0             1.00           0.00     256.00   3481  \n",
       "4             1             0.25          64.00     121.00    324  \n",
       "\n",
       "[5 rows x 142 columns]"
      ]
     },
     "execution_count": 3,
     "metadata": {},
     "output_type": "execute_result"
    }
   ],
   "source": [
    "test = pd.read_csv('../data/test_preprocessed.csv')\n",
    "test.head()"
   ]
  },
  {
   "cell_type": "code",
   "execution_count": 4,
   "metadata": {},
   "outputs": [],
   "source": [
    "ntrain = train.shape[0]\n",
    "ntest = test.shape[0]\n",
    "\n",
    "all_data = pd.concat((train, test)).reset_index(drop=True)\n",
    "\n",
    "tar = all_data['Target'].copy()   # Tách cột target và lưu tạm thời.\n",
    "all_data.drop(columns='Target', inplace=True) "
   ]
  },
  {
   "cell_type": "markdown",
   "metadata": {},
   "source": [
    "# Xây dựng mô hình học máy"
   ]
  },
  {
   "cell_type": "markdown",
   "metadata": {},
   "source": [
    "## Loại bỏ những thuộc tính dư thừa"
   ]
  },
  {
   "cell_type": "markdown",
   "metadata": {},
   "source": [
    "### Tạo biến ordinal từ dữ liệu đã được one-hot encode"
   ]
  },
  {
   "cell_type": "markdown",
   "metadata": {},
   "source": [
    "Các thuộc tính như `epared`, `etecho`, `eviv` và `instlevel` có thể được chuyển về dạng dữ liệu ordinal với quy ước **(bad, regular, good) -> (0, 1, 2)**"
   ]
  },
  {
   "cell_type": "code",
   "execution_count": 5,
   "metadata": {},
   "outputs": [],
   "source": [
    "def get_numeric(data, status_name):\n",
    "    status_cols = [s for s in data.columns.tolist() if status_name in s]\n",
    "    status_df = data[status_cols]\n",
    "    status_df.columns = list(range(status_df.shape[1]))\n",
    "    status_numeric = status_df.idxmax(1)\n",
    "    status_numeric.name = status_name\n",
    "    data = pd.concat([data, status_numeric], axis=1)\n",
    "    return data"
   ]
  },
  {
   "cell_type": "code",
   "execution_count": 6,
   "metadata": {},
   "outputs": [],
   "source": [
    "status_name_list = ['epared', 'etecho', 'eviv', 'instlevel']\n",
    "for status_name in status_name_list:\n",
    "    all_data = get_numeric(all_data, status_name)"
   ]
  },
  {
   "cell_type": "markdown",
   "metadata": {},
   "source": [
    "### Xóa những thuộc tính không cần thiết"
   ]
  },
  {
   "cell_type": "markdown",
   "metadata": {},
   "source": [
    "Nhóm nhận thấy có những thuộc tính có thể được xác định bằng những thuộc tính khác trong dữ liệu.\n",
    "\n",
    "* `v18q` có thể được tạo ra từ `v18q1`.\n",
    "* `mobilephone` có thể được tạo ra từ `qmobilephone`.\n",
    "* `epared1~3`, `etecho1~3`, `eviv1~3`, `instlevel1~9` do đã được chuyển đổi thành dữ liệu ordinal nên sẽ không dùng đến nữa.\n",
    "\n",
    "* Các cột được bình phương `SQB*`"
   ]
  },
  {
   "cell_type": "code",
   "execution_count": 7,
   "metadata": {},
   "outputs": [],
   "source": [
    "# Loại bỏ những cột đã được label encoder\n",
    "useless_col = ['epared1', 'epared2', 'epared3', \n",
    "                'etecho1', 'etecho2', 'etecho3',\n",
    "                'eviv1', 'eviv2', 'eviv3', \n",
    "                'instlevel1', 'instlevel2', 'instlevel3', 'instlevel4', 'instlevel5', 'instlevel6', 'instlevel7', 'instlevel8', 'instlevel9',\n",
    "                'SQBescolari', 'SQBage', 'agesq', 'SQBhogar_total',\n",
    "                'SQBedjefe', 'SQBhogar_nin', 'SQBovercrowding',\n",
    "                'SQBdependency', 'SQBmeaned']\n",
    "all_data.drop(columns=useless_col, inplace=True)"
   ]
  },
  {
   "cell_type": "markdown",
   "metadata": {},
   "source": [
    "### Điền dữ liệu thiếu\n",
    "- Cột `rez_esc`, `v2a1` không có thêm thông tin để giải quyết nên sẽ fill dữ liệu thiếu là 0"
   ]
  },
  {
   "cell_type": "code",
   "execution_count": 8,
   "metadata": {},
   "outputs": [],
   "source": [
    "all_data['rez_esc'].fillna(0, inplace =True)   \n",
    "all_data['v2a1'].fillna(0, inplace =True) "
   ]
  },
  {
   "cell_type": "markdown",
   "metadata": {},
   "source": [
    "## Tạo các cột mới"
   ]
  },
  {
   "cell_type": "markdown",
   "metadata": {},
   "source": [
    "### Thêm cột dựa trên tình hình cơ sở vật chất\n",
    "\n",
    "Nhóm thêm cột `minus` và `bonus` cho điểm trừ, điểm cộng dựa trên các đặc điểm của csvc\n",
    "\n",
    "Đối với điểm trừ, các hộ gia đình mà không có:\n",
    "- toilet, điện nước, gas, tường....\n",
    "- Điểm trừ sẽ là số âm\n",
    "\n",
    "Đối với điểm cộng, các hộ gia đình có:\n",
    "- tủ lạnh, máy tính, lượng máy tính bảng, tivi...."
   ]
  },
  {
   "cell_type": "code",
   "execution_count": 9,
   "metadata": {},
   "outputs": [],
   "source": [
    "all_data['minus'] = -1 * (all_data['sanitario1'] +   # không toilet\n",
    "                         (all_data['noelec'] == 0) + # không có điện\n",
    "                         all_data['pisonotiene'] +   # không có sàn\n",
    "                         all_data['abastaguano'] +   # không có nước\n",
    "                         (all_data['cielorazo'] == 0)+    # không có trần\n",
    "                         (all_data['energcocinar1'] )+# không có năng lượng để nấu ăn\n",
    "                         (all_data['epared'] == 0 )+      # tường bad\n",
    "                         (all_data['etecho'] == 0 )+      # mái nhà bad\n",
    "                         (all_data['eviv'] == 0 ))        # sàn nhà bad\n",
    "\n",
    "\n",
    "all_data['bonus'] = 1 * (all_data['refrig'] +    # tủ lạnh\n",
    "                      all_data['computer'] +    # máy tính\n",
    "                      (all_data['v18q1'] > 0) + # có tablet \n",
    "                      all_data['television'])   # có tivi\n"
   ]
  },
  {
   "cell_type": "markdown",
   "metadata": {},
   "source": [
    "### Tạo các cột mới theo tỉ lệ (phòng, tiền nhà) / người\n"
   ]
  },
  {
   "cell_type": "code",
   "execution_count": 10,
   "metadata": {},
   "outputs": [],
   "source": [
    "\n",
    "def extract_features(df):\n",
    "    df['bedrooms_to_rooms'] = df['bedrooms']/df['rooms']  # tỉ lệ phòng ngủ trong nhà\n",
    "    df['rent_per_bedroom'] = df['v2a1']/df['bedrooms']    # tiền thuê phòng ngủ\n",
    "    df['adults_per_bedroom'] = df['hogar_adul']/df['bedrooms'] # bn người lớn/phòng ngủ\n",
    "    df['child_per_bedroom'] = df['hogar_nin']/df['bedrooms']\n",
    "    df['male_per_bedroom'] = df['r4h3']/df['bedrooms']\n",
    "    df['female_per_bedroom'] = df['r4m3']/df['bedrooms']\n",
    "\n",
    "\n",
    "    df['overcrowding_room_and_bedroom'] = (df['hacdor'] + df['hacapo'])/2  # số phòng quá đông đúc\n",
    "    df['rent_to_rooms'] = df['v2a1']/df['rooms']          # tiền thuê mỗi phòng\n",
    "    df['tamhog_to_rooms'] = df['tamhog']/df['rooms']    # bao nhiêu người/phòng\n",
    "    \n",
    "    df['r4t3_to_tamhog'] = df['r4t3']/df['tamhog']      # r4t3 - Total persons in the household\n",
    "    df['r4t3_to_rooms'] = df['r4t3']/df['rooms']        # bao nhiêu người/phòng\n",
    "    df['v2a1_to_r4t3'] = df['v2a1']/df['r4t3']          # tiền thuê nhà theo đầu người\n",
    "    df['v2a1_to_r4t3'] = df['v2a1']/(df['r4t3'] - df['r4t1']) # tiền thuê nhà ko tính trẻ em (<12 tuối)\n",
    "    \n",
    "    df['hhsize_to_rooms'] = df['hhsize']/df['rooms'] # bao nhiêu người/phòng\n",
    "    df['rent_per_person'] = df['v2a1']/df['hhsize'] # tiển thuê chia theo hộ gia đình\n",
    "    # df['rent_per_adult'] = df['v2a1']/df['hogar_adul'] #tiền thuê chia cho adult\n",
    "\n",
    "    \n",
    "extract_features(all_data)       "
   ]
  },
  {
   "cell_type": "code",
   "execution_count": 11,
   "metadata": {},
   "outputs": [
    {
     "data": {
      "text/plain": [
       "87021"
      ]
     },
     "execution_count": 11,
     "metadata": {},
     "output_type": "execute_result"
    }
   ],
   "source": [
    "all_data['hogar_adul'][all_data['hogar_adul'] !=0 ].sum()"
   ]
  },
  {
   "cell_type": "markdown",
   "metadata": {},
   "source": [
    "Sau khi đã rút ra các đặc trưng cần thiết, xóa các cột trên"
   ]
  },
  {
   "cell_type": "code",
   "execution_count": 12,
   "metadata": {},
   "outputs": [
    {
     "data": {
      "text/plain": [
       "(33413, 127)"
      ]
     },
     "execution_count": 12,
     "metadata": {},
     "output_type": "execute_result"
    }
   ],
   "source": [
    "needless_cols = ['r4t3', 'tamhog', 'tamviv', 'hhsize', 'v18q', 'v14a',\n",
    "                 'mobilephone', 'female']\n",
    "\n",
    "all_data.drop(needless_cols, axis=1, inplace=True)\n",
    "all_data.shape"
   ]
  },
  {
   "cell_type": "markdown",
   "metadata": {},
   "source": [
    "### Đến đây ta có thể dùng dữ liệu cho model."
   ]
  },
  {
   "cell_type": "code",
   "execution_count": 13,
   "metadata": {},
   "outputs": [],
   "source": [
    "all_data = pd.concat([all_data, tar],axis=1) # thêm cột target \n",
    "# Lọc ra tâp train, tập test\n",
    "train = all_data.loc[all_data[\"Target\"].notnull()]\n",
    "test = all_data.loc[all_data[\"Target\"].isnull()]"
   ]
  },
  {
   "cell_type": "code",
   "execution_count": 14,
   "metadata": {},
   "outputs": [],
   "source": [
    "X= train.drop( ['Id', 'idhogar', 'Target'], axis= 1)\n",
    "y= train['Target']"
   ]
  },
  {
   "cell_type": "markdown",
   "metadata": {},
   "source": [
    "### Scale dữ liệu\n",
    "- Đối với cột có giá trị lớn (từ 100-100000), nhóm sẽ dùng Standard Scaler để đưa dữ liệu về phân phối chuẩn\n",
    "- Đối với các cột còn lại, nhóm sẽ dùng MinMax Scaler để đưa giá trị về khoảng (0,1) "
   ]
  },
  {
   "cell_type": "code",
   "execution_count": 15,
   "metadata": {},
   "outputs": [],
   "source": [
    "# lọc ra những cột dùng standard scaler\n",
    "col_std = ['v2a1', 'edjefe', 'edjefa', 'meaneduc', 'age',\n",
    "             'rent_to_rooms', 'v2a1_to_r4t3', \n",
    "             'rent_per_bedroom',  'rent_to_rooms', 'v2a1_to_r4t3', 'rent_per_person']\n",
    "\n",
    "# các cột còn lại dùng minmax\n",
    "col_minmax =  list(set(X.columns) - set(col_std))"
   ]
  },
  {
   "cell_type": "markdown",
   "metadata": {},
   "source": [
    "### Xử lý mất cân bằng dữ liệu\n"
   ]
  },
  {
   "cell_type": "code",
   "execution_count": 16,
   "metadata": {},
   "outputs": [
    {
     "name": "stdout",
     "output_type": "stream",
     "text": [
      "Tỉ lệ các label để train:  Target\n",
      "4.0    0.627394\n",
      "2.0    0.167103\n",
      "3.0    0.126504\n",
      "1.0    0.079000\n",
      "Name: count, dtype: float64\n"
     ]
    }
   ],
   "source": [
    "print('Tỉ lệ các label để train: ',\n",
    "      train['Target'].value_counts()/train.shape[0])"
   ]
  },
  {
   "cell_type": "markdown",
   "metadata": {},
   "source": [
    "Theo tỉ lệ trên có thể thấy được label 4 gấp 10 lần label 1. Nếu không xử lý có thể làm mô hình dự đoán không hiệu quả.\n",
    "\n",
    "Cách xử lý: Gán cho mỗi label một trọng số. Trọng số này tỉ lệ nghịch với số lượng label. Dữ liệu nào ít nhãn thì có trọng số cao. \n",
    "\n",
    "Trọng số này có tác dụng để `phạt` mô hình. Khi mô hình dự đoán sai nhãn có trọng số cao (số lượng nhãn ít) thì hàm lost lại dữ liệu đó cao."
   ]
  },
  {
   "cell_type": "code",
   "execution_count": 17,
   "metadata": {},
   "outputs": [
    {
     "name": "stdout",
     "output_type": "stream",
     "text": [
      "   Target    Weight\n",
      "0     1.0  3.164570\n",
      "1     2.0  1.496086\n",
      "2     3.0  1.976220\n",
      "3     4.0  0.398474\n"
     ]
    }
   ],
   "source": [
    "y_weights = class_weight.compute_sample_weight('balanced', y, indices=None)\n",
    "\n",
    "print(pd.DataFrame(dict(Target = y, Weight = y_weights)).drop_duplicates().sort_values(by = [\"Target\"]).reset_index(drop = True))"
   ]
  },
  {
   "cell_type": "code",
   "execution_count": 18,
   "metadata": {},
   "outputs": [
    {
     "data": {
      "text/plain": [
       "(7645, 125)"
      ]
     },
     "execution_count": 18,
     "metadata": {},
     "output_type": "execute_result"
    }
   ],
   "source": [
    "# phân chia tập train, test, và weight tương ứng.\n",
    "X_train,X_test,y_train,y_test, weights_train,weights_test  =train_test_split(X,y,y_weights,test_size=0.2, random_state=1)\n",
    "X_train.shape"
   ]
  },
  {
   "cell_type": "markdown",
   "metadata": {},
   "source": [
    "### Tạo pipeline để train model\n",
    "\n",
    "Pipe line gồm : chuẩn hóa dữ liệu ( standard, minmax) -> train model\n",
    "\n",
    "Ở đây, có tham số `best_param`. Tham số này được chạy từ GridSearch để chọn ra bộ tham số tốt nhất cho mô hình"
   ]
  },
  {
   "cell_type": "code",
   "execution_count": 19,
   "metadata": {},
   "outputs": [
    {
     "data": {
      "text/html": [
       "<style>#sk-container-id-1 {color: black;background-color: white;}#sk-container-id-1 pre{padding: 0;}#sk-container-id-1 div.sk-toggleable {background-color: white;}#sk-container-id-1 label.sk-toggleable__label {cursor: pointer;display: block;width: 100%;margin-bottom: 0;padding: 0.3em;box-sizing: border-box;text-align: center;}#sk-container-id-1 label.sk-toggleable__label-arrow:before {content: \"▸\";float: left;margin-right: 0.25em;color: #696969;}#sk-container-id-1 label.sk-toggleable__label-arrow:hover:before {color: black;}#sk-container-id-1 div.sk-estimator:hover label.sk-toggleable__label-arrow:before {color: black;}#sk-container-id-1 div.sk-toggleable__content {max-height: 0;max-width: 0;overflow: hidden;text-align: left;background-color: #f0f8ff;}#sk-container-id-1 div.sk-toggleable__content pre {margin: 0.2em;color: black;border-radius: 0.25em;background-color: #f0f8ff;}#sk-container-id-1 input.sk-toggleable__control:checked~div.sk-toggleable__content {max-height: 200px;max-width: 100%;overflow: auto;}#sk-container-id-1 input.sk-toggleable__control:checked~label.sk-toggleable__label-arrow:before {content: \"▾\";}#sk-container-id-1 div.sk-estimator input.sk-toggleable__control:checked~label.sk-toggleable__label {background-color: #d4ebff;}#sk-container-id-1 div.sk-label input.sk-toggleable__control:checked~label.sk-toggleable__label {background-color: #d4ebff;}#sk-container-id-1 input.sk-hidden--visually {border: 0;clip: rect(1px 1px 1px 1px);clip: rect(1px, 1px, 1px, 1px);height: 1px;margin: -1px;overflow: hidden;padding: 0;position: absolute;width: 1px;}#sk-container-id-1 div.sk-estimator {font-family: monospace;background-color: #f0f8ff;border: 1px dotted black;border-radius: 0.25em;box-sizing: border-box;margin-bottom: 0.5em;}#sk-container-id-1 div.sk-estimator:hover {background-color: #d4ebff;}#sk-container-id-1 div.sk-parallel-item::after {content: \"\";width: 100%;border-bottom: 1px solid gray;flex-grow: 1;}#sk-container-id-1 div.sk-label:hover label.sk-toggleable__label {background-color: #d4ebff;}#sk-container-id-1 div.sk-serial::before {content: \"\";position: absolute;border-left: 1px solid gray;box-sizing: border-box;top: 0;bottom: 0;left: 50%;z-index: 0;}#sk-container-id-1 div.sk-serial {display: flex;flex-direction: column;align-items: center;background-color: white;padding-right: 0.2em;padding-left: 0.2em;position: relative;}#sk-container-id-1 div.sk-item {position: relative;z-index: 1;}#sk-container-id-1 div.sk-parallel {display: flex;align-items: stretch;justify-content: center;background-color: white;position: relative;}#sk-container-id-1 div.sk-item::before, #sk-container-id-1 div.sk-parallel-item::before {content: \"\";position: absolute;border-left: 1px solid gray;box-sizing: border-box;top: 0;bottom: 0;left: 50%;z-index: -1;}#sk-container-id-1 div.sk-parallel-item {display: flex;flex-direction: column;z-index: 1;position: relative;background-color: white;}#sk-container-id-1 div.sk-parallel-item:first-child::after {align-self: flex-end;width: 50%;}#sk-container-id-1 div.sk-parallel-item:last-child::after {align-self: flex-start;width: 50%;}#sk-container-id-1 div.sk-parallel-item:only-child::after {width: 0;}#sk-container-id-1 div.sk-dashed-wrapped {border: 1px dashed gray;margin: 0 0.4em 0.5em 0.4em;box-sizing: border-box;padding-bottom: 0.4em;background-color: white;}#sk-container-id-1 div.sk-label label {font-family: monospace;font-weight: bold;display: inline-block;line-height: 1.2em;}#sk-container-id-1 div.sk-label-container {text-align: center;}#sk-container-id-1 div.sk-container {/* jupyter's `normalize.less` sets `[hidden] { display: none; }` but bootstrap.min.css set `[hidden] { display: none !important; }` so we also need the `!important` here to be able to override the default hidden behavior on the sphinx rendered scikit-learn.org. See: https://github.com/scikit-learn/scikit-learn/issues/21755 */display: inline-block !important;position: relative;}#sk-container-id-1 div.sk-text-repr-fallback {display: none;}</style><div id=\"sk-container-id-1\" class=\"sk-top-container\"><div class=\"sk-text-repr-fallback\"><pre>Pipeline(steps=[(&#x27;preprocessor&#x27;,\n",
       "                 ColumnTransformer(transformers=[(&#x27;std_scaler&#x27;,\n",
       "                                                  StandardScaler(),\n",
       "                                                  [&#x27;v2a1&#x27;, &#x27;edjefe&#x27;, &#x27;edjefa&#x27;,\n",
       "                                                   &#x27;meaneduc&#x27;, &#x27;age&#x27;,\n",
       "                                                   &#x27;rent_to_rooms&#x27;,\n",
       "                                                   &#x27;v2a1_to_r4t3&#x27;,\n",
       "                                                   &#x27;rent_per_bedroom&#x27;,\n",
       "                                                   &#x27;rent_to_rooms&#x27;,\n",
       "                                                   &#x27;v2a1_to_r4t3&#x27;,\n",
       "                                                   &#x27;rent_per_person&#x27;]),\n",
       "                                                 (&#x27;minmax_scaler&#x27;,\n",
       "                                                  MinMaxScaler(),\n",
       "                                                  [&#x27;qmobilephone&#x27;, &#x27;noelec&#x27;,\n",
       "                                                   &#x27;tipovivi3&#x27;, &#x27;techootro&#x27;,\n",
       "                                                   &#x27;energcocinar3&#x27;,\n",
       "                                                   &#x27;sanitario3&#x27;, &#x27;...\n",
       "                                                   &#x27;public&#x27;, &#x27;r4t3_to_rooms&#x27;,\n",
       "                                                   &#x27;energcocinar1&#x27;,\n",
       "                                                   &#x27;parentesco3&#x27;, &#x27;area1&#x27;,\n",
       "                                                   &#x27;estadocivil7&#x27;, &#x27;etecho&#x27;,\n",
       "                                                   &#x27;paredpreb&#x27;,\n",
       "                                                   &#x27;adults_per_bedroom&#x27;,\n",
       "                                                   &#x27;paredmad&#x27;, &#x27;r4h3&#x27;,\n",
       "                                                   &#x27;hhsize_to_rooms&#x27;, &#x27;r4m2&#x27;,\n",
       "                                                   &#x27;estadocivil4&#x27;, &#x27;eviv&#x27;,\n",
       "                                                   &#x27;cielorazo&#x27;, &#x27;lugar6&#x27;,\n",
       "                                                   &#x27;techoentrepiso&#x27;,\n",
       "                                                   &#x27;pisomadera&#x27;,\n",
       "                                                   &#x27;female_per_bedroom&#x27;, &#x27;r4h1&#x27;, ...])])),\n",
       "                (&#x27;classifier&#x27;,\n",
       "                 GradientBoostingClassifier(learning_rate=0.3, max_depth=7,\n",
       "                                            n_estimators=200))])</pre><b>In a Jupyter environment, please rerun this cell to show the HTML representation or trust the notebook. <br />On GitHub, the HTML representation is unable to render, please try loading this page with nbviewer.org.</b></div><div class=\"sk-container\" hidden><div class=\"sk-item sk-dashed-wrapped\"><div class=\"sk-label-container\"><div class=\"sk-label sk-toggleable\"><input class=\"sk-toggleable__control sk-hidden--visually\" id=\"sk-estimator-id-1\" type=\"checkbox\" ><label for=\"sk-estimator-id-1\" class=\"sk-toggleable__label sk-toggleable__label-arrow\">Pipeline</label><div class=\"sk-toggleable__content\"><pre>Pipeline(steps=[(&#x27;preprocessor&#x27;,\n",
       "                 ColumnTransformer(transformers=[(&#x27;std_scaler&#x27;,\n",
       "                                                  StandardScaler(),\n",
       "                                                  [&#x27;v2a1&#x27;, &#x27;edjefe&#x27;, &#x27;edjefa&#x27;,\n",
       "                                                   &#x27;meaneduc&#x27;, &#x27;age&#x27;,\n",
       "                                                   &#x27;rent_to_rooms&#x27;,\n",
       "                                                   &#x27;v2a1_to_r4t3&#x27;,\n",
       "                                                   &#x27;rent_per_bedroom&#x27;,\n",
       "                                                   &#x27;rent_to_rooms&#x27;,\n",
       "                                                   &#x27;v2a1_to_r4t3&#x27;,\n",
       "                                                   &#x27;rent_per_person&#x27;]),\n",
       "                                                 (&#x27;minmax_scaler&#x27;,\n",
       "                                                  MinMaxScaler(),\n",
       "                                                  [&#x27;qmobilephone&#x27;, &#x27;noelec&#x27;,\n",
       "                                                   &#x27;tipovivi3&#x27;, &#x27;techootro&#x27;,\n",
       "                                                   &#x27;energcocinar3&#x27;,\n",
       "                                                   &#x27;sanitario3&#x27;, &#x27;...\n",
       "                                                   &#x27;public&#x27;, &#x27;r4t3_to_rooms&#x27;,\n",
       "                                                   &#x27;energcocinar1&#x27;,\n",
       "                                                   &#x27;parentesco3&#x27;, &#x27;area1&#x27;,\n",
       "                                                   &#x27;estadocivil7&#x27;, &#x27;etecho&#x27;,\n",
       "                                                   &#x27;paredpreb&#x27;,\n",
       "                                                   &#x27;adults_per_bedroom&#x27;,\n",
       "                                                   &#x27;paredmad&#x27;, &#x27;r4h3&#x27;,\n",
       "                                                   &#x27;hhsize_to_rooms&#x27;, &#x27;r4m2&#x27;,\n",
       "                                                   &#x27;estadocivil4&#x27;, &#x27;eviv&#x27;,\n",
       "                                                   &#x27;cielorazo&#x27;, &#x27;lugar6&#x27;,\n",
       "                                                   &#x27;techoentrepiso&#x27;,\n",
       "                                                   &#x27;pisomadera&#x27;,\n",
       "                                                   &#x27;female_per_bedroom&#x27;, &#x27;r4h1&#x27;, ...])])),\n",
       "                (&#x27;classifier&#x27;,\n",
       "                 GradientBoostingClassifier(learning_rate=0.3, max_depth=7,\n",
       "                                            n_estimators=200))])</pre></div></div></div><div class=\"sk-serial\"><div class=\"sk-item sk-dashed-wrapped\"><div class=\"sk-label-container\"><div class=\"sk-label sk-toggleable\"><input class=\"sk-toggleable__control sk-hidden--visually\" id=\"sk-estimator-id-2\" type=\"checkbox\" ><label for=\"sk-estimator-id-2\" class=\"sk-toggleable__label sk-toggleable__label-arrow\">preprocessor: ColumnTransformer</label><div class=\"sk-toggleable__content\"><pre>ColumnTransformer(transformers=[(&#x27;std_scaler&#x27;, StandardScaler(),\n",
       "                                 [&#x27;v2a1&#x27;, &#x27;edjefe&#x27;, &#x27;edjefa&#x27;, &#x27;meaneduc&#x27;, &#x27;age&#x27;,\n",
       "                                  &#x27;rent_to_rooms&#x27;, &#x27;v2a1_to_r4t3&#x27;,\n",
       "                                  &#x27;rent_per_bedroom&#x27;, &#x27;rent_to_rooms&#x27;,\n",
       "                                  &#x27;v2a1_to_r4t3&#x27;, &#x27;rent_per_person&#x27;]),\n",
       "                                (&#x27;minmax_scaler&#x27;, MinMaxScaler(),\n",
       "                                 [&#x27;qmobilephone&#x27;, &#x27;noelec&#x27;, &#x27;tipovivi3&#x27;,\n",
       "                                  &#x27;techootro&#x27;, &#x27;energcocinar3&#x27;, &#x27;sanitario3&#x27;,\n",
       "                                  &#x27;r4t2&#x27;, &#x27;bonus&#x27;, &#x27;instlevel&#x27;, &#x27;public&#x27;,\n",
       "                                  &#x27;r4t3_to_rooms&#x27;, &#x27;energcocinar1&#x27;,\n",
       "                                  &#x27;parentesco3&#x27;, &#x27;area1&#x27;, &#x27;estadocivil7&#x27;,\n",
       "                                  &#x27;etecho&#x27;, &#x27;paredpreb&#x27;, &#x27;adults_per_bedroom&#x27;,\n",
       "                                  &#x27;paredmad&#x27;, &#x27;r4h3&#x27;, &#x27;hhsize_to_rooms&#x27;, &#x27;r4m2&#x27;,\n",
       "                                  &#x27;estadocivil4&#x27;, &#x27;eviv&#x27;, &#x27;cielorazo&#x27;, &#x27;lugar6&#x27;,\n",
       "                                  &#x27;techoentrepiso&#x27;, &#x27;pisomadera&#x27;,\n",
       "                                  &#x27;female_per_bedroom&#x27;, &#x27;r4h1&#x27;, ...])])</pre></div></div></div><div class=\"sk-parallel\"><div class=\"sk-parallel-item\"><div class=\"sk-item\"><div class=\"sk-label-container\"><div class=\"sk-label sk-toggleable\"><input class=\"sk-toggleable__control sk-hidden--visually\" id=\"sk-estimator-id-3\" type=\"checkbox\" ><label for=\"sk-estimator-id-3\" class=\"sk-toggleable__label sk-toggleable__label-arrow\">std_scaler</label><div class=\"sk-toggleable__content\"><pre>[&#x27;v2a1&#x27;, &#x27;edjefe&#x27;, &#x27;edjefa&#x27;, &#x27;meaneduc&#x27;, &#x27;age&#x27;, &#x27;rent_to_rooms&#x27;, &#x27;v2a1_to_r4t3&#x27;, &#x27;rent_per_bedroom&#x27;, &#x27;rent_to_rooms&#x27;, &#x27;v2a1_to_r4t3&#x27;, &#x27;rent_per_person&#x27;]</pre></div></div></div><div class=\"sk-serial\"><div class=\"sk-item\"><div class=\"sk-estimator sk-toggleable\"><input class=\"sk-toggleable__control sk-hidden--visually\" id=\"sk-estimator-id-4\" type=\"checkbox\" ><label for=\"sk-estimator-id-4\" class=\"sk-toggleable__label sk-toggleable__label-arrow\">StandardScaler</label><div class=\"sk-toggleable__content\"><pre>StandardScaler()</pre></div></div></div></div></div></div><div class=\"sk-parallel-item\"><div class=\"sk-item\"><div class=\"sk-label-container\"><div class=\"sk-label sk-toggleable\"><input class=\"sk-toggleable__control sk-hidden--visually\" id=\"sk-estimator-id-5\" type=\"checkbox\" ><label for=\"sk-estimator-id-5\" class=\"sk-toggleable__label sk-toggleable__label-arrow\">minmax_scaler</label><div class=\"sk-toggleable__content\"><pre>[&#x27;qmobilephone&#x27;, &#x27;noelec&#x27;, &#x27;tipovivi3&#x27;, &#x27;techootro&#x27;, &#x27;energcocinar3&#x27;, &#x27;sanitario3&#x27;, &#x27;r4t2&#x27;, &#x27;bonus&#x27;, &#x27;instlevel&#x27;, &#x27;public&#x27;, &#x27;r4t3_to_rooms&#x27;, &#x27;energcocinar1&#x27;, &#x27;parentesco3&#x27;, &#x27;area1&#x27;, &#x27;estadocivil7&#x27;, &#x27;etecho&#x27;, &#x27;paredpreb&#x27;, &#x27;adults_per_bedroom&#x27;, &#x27;paredmad&#x27;, &#x27;r4h3&#x27;, &#x27;hhsize_to_rooms&#x27;, &#x27;r4m2&#x27;, &#x27;estadocivil4&#x27;, &#x27;eviv&#x27;, &#x27;cielorazo&#x27;, &#x27;lugar6&#x27;, &#x27;techoentrepiso&#x27;, &#x27;pisomadera&#x27;, &#x27;female_per_bedroom&#x27;, &#x27;r4h1&#x27;, &#x27;hacdor&#x27;, &#x27;lugar1&#x27;, &#x27;dependency&#x27;, &#x27;pisoother&#x27;, &#x27;parentesco1&#x27;, &#x27;elimbasu3&#x27;, &#x27;sanitario5&#x27;, &#x27;lugar3&#x27;, &#x27;television&#x27;, &#x27;dis&#x27;, &#x27;child_per_bedroom&#x27;, &#x27;estadocivil2&#x27;, &#x27;parentesco5&#x27;, &#x27;r4h2&#x27;, &#x27;estadocivil3&#x27;, &#x27;r4m3&#x27;, &#x27;elimbasu4&#x27;, &#x27;estadocivil6&#x27;, &#x27;male_per_bedroom&#x27;, &#x27;hogar_total&#x27;, &#x27;parentesco11&#x27;, &#x27;elimbasu2&#x27;, &#x27;parentesco6&#x27;, &#x27;rooms&#x27;, &#x27;techozinc&#x27;, &#x27;tipovivi2&#x27;, &#x27;lugar2&#x27;, &#x27;r4t1&#x27;, &#x27;energcocinar4&#x27;, &#x27;parentesco12&#x27;, &#x27;epared&#x27;, &#x27;paredblolad&#x27;, &#x27;parentesco7&#x27;, &#x27;male&#x27;, &#x27;v18q1&#x27;, &#x27;sanitario6&#x27;, &#x27;lugar5&#x27;, &#x27;minus&#x27;, &#x27;parentesco10&#x27;, &#x27;refrig&#x27;, &#x27;pisomoscer&#x27;, &#x27;planpri&#x27;, &#x27;estadocivil5&#x27;, &#x27;tipovivi5&#x27;, &#x27;hogar_adul&#x27;, &#x27;elimbasu5&#x27;, &#x27;lugar4&#x27;, &#x27;paredfibras&#x27;, &#x27;abastaguafuera&#x27;, &#x27;overcrowding&#x27;, &#x27;parentesco9&#x27;, &#x27;parentesco2&#x27;, &#x27;coopele&#x27;, &#x27;pisonatur&#x27;, &#x27;pisocemento&#x27;, &#x27;estadocivil1&#x27;, &#x27;pisonotiene&#x27;, &#x27;computer&#x27;, &#x27;hacapo&#x27;, &#x27;escolari&#x27;, &#x27;abastaguadentro&#x27;, &#x27;energcocinar2&#x27;, &#x27;area2&#x27;, &#x27;tipovivi1&#x27;, &#x27;r4m1&#x27;, &#x27;paredzinc&#x27;, &#x27;parentesco8&#x27;, &#x27;parentesco4&#x27;, &#x27;tipovivi4&#x27;, &#x27;techocane&#x27;, &#x27;elimbasu1&#x27;, &#x27;pareddes&#x27;, &#x27;paredother&#x27;, &#x27;paredzocalo&#x27;, &#x27;sanitario1&#x27;, &#x27;bedrooms_to_rooms&#x27;, &#x27;sanitario2&#x27;, &#x27;hogar_mayor&#x27;, &#x27;hogar_nin&#x27;, &#x27;bedrooms&#x27;, &#x27;elimbasu6&#x27;, &#x27;rez_esc&#x27;, &#x27;tamhog_to_rooms&#x27;, &#x27;overcrowding_room_and_bedroom&#x27;, &#x27;abastaguano&#x27;, &#x27;r4t3_to_tamhog&#x27;]</pre></div></div></div><div class=\"sk-serial\"><div class=\"sk-item\"><div class=\"sk-estimator sk-toggleable\"><input class=\"sk-toggleable__control sk-hidden--visually\" id=\"sk-estimator-id-6\" type=\"checkbox\" ><label for=\"sk-estimator-id-6\" class=\"sk-toggleable__label sk-toggleable__label-arrow\">MinMaxScaler</label><div class=\"sk-toggleable__content\"><pre>MinMaxScaler()</pre></div></div></div></div></div></div></div></div><div class=\"sk-item\"><div class=\"sk-estimator sk-toggleable\"><input class=\"sk-toggleable__control sk-hidden--visually\" id=\"sk-estimator-id-7\" type=\"checkbox\" ><label for=\"sk-estimator-id-7\" class=\"sk-toggleable__label sk-toggleable__label-arrow\">GradientBoostingClassifier</label><div class=\"sk-toggleable__content\"><pre>GradientBoostingClassifier(learning_rate=0.3, max_depth=7, n_estimators=200)</pre></div></div></div></div></div></div></div>"
      ],
      "text/plain": [
       "Pipeline(steps=[('preprocessor',\n",
       "                 ColumnTransformer(transformers=[('std_scaler',\n",
       "                                                  StandardScaler(),\n",
       "                                                  ['v2a1', 'edjefe', 'edjefa',\n",
       "                                                   'meaneduc', 'age',\n",
       "                                                   'rent_to_rooms',\n",
       "                                                   'v2a1_to_r4t3',\n",
       "                                                   'rent_per_bedroom',\n",
       "                                                   'rent_to_rooms',\n",
       "                                                   'v2a1_to_r4t3',\n",
       "                                                   'rent_per_person']),\n",
       "                                                 ('minmax_scaler',\n",
       "                                                  MinMaxScaler(),\n",
       "                                                  ['qmobilephone', 'noelec',\n",
       "                                                   'tipovivi3', 'techootro',\n",
       "                                                   'energcocinar3',\n",
       "                                                   'sanitario3', '...\n",
       "                                                   'public', 'r4t3_to_rooms',\n",
       "                                                   'energcocinar1',\n",
       "                                                   'parentesco3', 'area1',\n",
       "                                                   'estadocivil7', 'etecho',\n",
       "                                                   'paredpreb',\n",
       "                                                   'adults_per_bedroom',\n",
       "                                                   'paredmad', 'r4h3',\n",
       "                                                   'hhsize_to_rooms', 'r4m2',\n",
       "                                                   'estadocivil4', 'eviv',\n",
       "                                                   'cielorazo', 'lugar6',\n",
       "                                                   'techoentrepiso',\n",
       "                                                   'pisomadera',\n",
       "                                                   'female_per_bedroom', 'r4h1', ...])])),\n",
       "                ('classifier',\n",
       "                 GradientBoostingClassifier(learning_rate=0.3, max_depth=7,\n",
       "                                            n_estimators=200))])"
      ]
     },
     "execution_count": 19,
     "metadata": {},
     "output_type": "execute_result"
    }
   ],
   "source": [
    "# Tạo Pipeline preprocessor\n",
    "preprocessor = ColumnTransformer(\n",
    "    transformers=[\n",
    "        ('std_scaler', StandardScaler(), col_std),  # Chuẩn hóa các cột trong nhóm col_std\n",
    "        ('minmax_scaler', MinMaxScaler(), col_minmax)  # Chuẩn hóa các cột trong nhóm col_minmax\n",
    "    ])\n",
    "\n",
    "# Khởi tạo GradientBoostingClassifier\n",
    "gradient = GradientBoostingClassifier()\n",
    "\n",
    "# Tạo pipeline \n",
    "pipeline = Pipeline([\n",
    "    ('preprocessor', preprocessor),  # Chuẩn hóa dữ liệu\n",
    "    ('classifier', gradient)  # Mô hình phân loại\n",
    "])\n",
    "\n",
    "# Siêu tham số đã được chọn từ GS\n",
    "best_param =  {'classifier__learning_rate': 0.3, \n",
    "               'classifier__max_depth': 7, \n",
    "               'classifier__n_estimators': 200}\n",
    "\n",
    "\n",
    "pipeline.set_params(**best_param) # set siêu tham số cho mô hình"
   ]
  },
  {
   "cell_type": "code",
   "execution_count": 20,
   "metadata": {},
   "outputs": [],
   "source": [
    "# Phần chạy gridsearch \n",
    "\n",
    "# param_grid = {\n",
    "#     'classifier__n_estimators': [50, 100, 120],  \n",
    "#     'classifier__learning_rate': [0.1, 0.3,0.5],  \n",
    "#     'classifier__max_depth': [3, 5, 7]  \n",
    "# }\n",
    "\n",
    "# scorer = make_scorer(f1_score, average='macro')\n",
    "\n",
    "# grid_search = GridSearchCV(estimator=pipeline, param_grid=param_grid, scoring=scorer, cv=5)\n",
    "# grid_search.fit(X_train, y_train, classifier__sample_weight=weights_train)\n",
    "\n",
    "# # best model\n",
    "# best_pipeline = grid_search.best_estimator_\n",
    "\n",
    "# # best param\n",
    "# print(\"Best parameters \", grid_search.best_params_)\n"
   ]
  },
  {
   "cell_type": "markdown",
   "metadata": {},
   "source": [
    "#### Train model Gradient Boosting\n"
   ]
  },
  {
   "cell_type": "code",
   "execution_count": 21,
   "metadata": {},
   "outputs": [
    {
     "data": {
      "text/html": [
       "<style>#sk-container-id-2 {color: black;background-color: white;}#sk-container-id-2 pre{padding: 0;}#sk-container-id-2 div.sk-toggleable {background-color: white;}#sk-container-id-2 label.sk-toggleable__label {cursor: pointer;display: block;width: 100%;margin-bottom: 0;padding: 0.3em;box-sizing: border-box;text-align: center;}#sk-container-id-2 label.sk-toggleable__label-arrow:before {content: \"▸\";float: left;margin-right: 0.25em;color: #696969;}#sk-container-id-2 label.sk-toggleable__label-arrow:hover:before {color: black;}#sk-container-id-2 div.sk-estimator:hover label.sk-toggleable__label-arrow:before {color: black;}#sk-container-id-2 div.sk-toggleable__content {max-height: 0;max-width: 0;overflow: hidden;text-align: left;background-color: #f0f8ff;}#sk-container-id-2 div.sk-toggleable__content pre {margin: 0.2em;color: black;border-radius: 0.25em;background-color: #f0f8ff;}#sk-container-id-2 input.sk-toggleable__control:checked~div.sk-toggleable__content {max-height: 200px;max-width: 100%;overflow: auto;}#sk-container-id-2 input.sk-toggleable__control:checked~label.sk-toggleable__label-arrow:before {content: \"▾\";}#sk-container-id-2 div.sk-estimator input.sk-toggleable__control:checked~label.sk-toggleable__label {background-color: #d4ebff;}#sk-container-id-2 div.sk-label input.sk-toggleable__control:checked~label.sk-toggleable__label {background-color: #d4ebff;}#sk-container-id-2 input.sk-hidden--visually {border: 0;clip: rect(1px 1px 1px 1px);clip: rect(1px, 1px, 1px, 1px);height: 1px;margin: -1px;overflow: hidden;padding: 0;position: absolute;width: 1px;}#sk-container-id-2 div.sk-estimator {font-family: monospace;background-color: #f0f8ff;border: 1px dotted black;border-radius: 0.25em;box-sizing: border-box;margin-bottom: 0.5em;}#sk-container-id-2 div.sk-estimator:hover {background-color: #d4ebff;}#sk-container-id-2 div.sk-parallel-item::after {content: \"\";width: 100%;border-bottom: 1px solid gray;flex-grow: 1;}#sk-container-id-2 div.sk-label:hover label.sk-toggleable__label {background-color: #d4ebff;}#sk-container-id-2 div.sk-serial::before {content: \"\";position: absolute;border-left: 1px solid gray;box-sizing: border-box;top: 0;bottom: 0;left: 50%;z-index: 0;}#sk-container-id-2 div.sk-serial {display: flex;flex-direction: column;align-items: center;background-color: white;padding-right: 0.2em;padding-left: 0.2em;position: relative;}#sk-container-id-2 div.sk-item {position: relative;z-index: 1;}#sk-container-id-2 div.sk-parallel {display: flex;align-items: stretch;justify-content: center;background-color: white;position: relative;}#sk-container-id-2 div.sk-item::before, #sk-container-id-2 div.sk-parallel-item::before {content: \"\";position: absolute;border-left: 1px solid gray;box-sizing: border-box;top: 0;bottom: 0;left: 50%;z-index: -1;}#sk-container-id-2 div.sk-parallel-item {display: flex;flex-direction: column;z-index: 1;position: relative;background-color: white;}#sk-container-id-2 div.sk-parallel-item:first-child::after {align-self: flex-end;width: 50%;}#sk-container-id-2 div.sk-parallel-item:last-child::after {align-self: flex-start;width: 50%;}#sk-container-id-2 div.sk-parallel-item:only-child::after {width: 0;}#sk-container-id-2 div.sk-dashed-wrapped {border: 1px dashed gray;margin: 0 0.4em 0.5em 0.4em;box-sizing: border-box;padding-bottom: 0.4em;background-color: white;}#sk-container-id-2 div.sk-label label {font-family: monospace;font-weight: bold;display: inline-block;line-height: 1.2em;}#sk-container-id-2 div.sk-label-container {text-align: center;}#sk-container-id-2 div.sk-container {/* jupyter's `normalize.less` sets `[hidden] { display: none; }` but bootstrap.min.css set `[hidden] { display: none !important; }` so we also need the `!important` here to be able to override the default hidden behavior on the sphinx rendered scikit-learn.org. See: https://github.com/scikit-learn/scikit-learn/issues/21755 */display: inline-block !important;position: relative;}#sk-container-id-2 div.sk-text-repr-fallback {display: none;}</style><div id=\"sk-container-id-2\" class=\"sk-top-container\"><div class=\"sk-text-repr-fallback\"><pre>Pipeline(steps=[(&#x27;preprocessor&#x27;,\n",
       "                 ColumnTransformer(transformers=[(&#x27;std_scaler&#x27;,\n",
       "                                                  StandardScaler(),\n",
       "                                                  [&#x27;v2a1&#x27;, &#x27;edjefe&#x27;, &#x27;edjefa&#x27;,\n",
       "                                                   &#x27;meaneduc&#x27;, &#x27;age&#x27;,\n",
       "                                                   &#x27;rent_to_rooms&#x27;,\n",
       "                                                   &#x27;v2a1_to_r4t3&#x27;,\n",
       "                                                   &#x27;rent_per_bedroom&#x27;,\n",
       "                                                   &#x27;rent_to_rooms&#x27;,\n",
       "                                                   &#x27;v2a1_to_r4t3&#x27;,\n",
       "                                                   &#x27;rent_per_person&#x27;]),\n",
       "                                                 (&#x27;minmax_scaler&#x27;,\n",
       "                                                  MinMaxScaler(),\n",
       "                                                  [&#x27;qmobilephone&#x27;, &#x27;noelec&#x27;,\n",
       "                                                   &#x27;tipovivi3&#x27;, &#x27;techootro&#x27;,\n",
       "                                                   &#x27;energcocinar3&#x27;,\n",
       "                                                   &#x27;sanitario3&#x27;, &#x27;...\n",
       "                                                   &#x27;public&#x27;, &#x27;r4t3_to_rooms&#x27;,\n",
       "                                                   &#x27;energcocinar1&#x27;,\n",
       "                                                   &#x27;parentesco3&#x27;, &#x27;area1&#x27;,\n",
       "                                                   &#x27;estadocivil7&#x27;, &#x27;etecho&#x27;,\n",
       "                                                   &#x27;paredpreb&#x27;,\n",
       "                                                   &#x27;adults_per_bedroom&#x27;,\n",
       "                                                   &#x27;paredmad&#x27;, &#x27;r4h3&#x27;,\n",
       "                                                   &#x27;hhsize_to_rooms&#x27;, &#x27;r4m2&#x27;,\n",
       "                                                   &#x27;estadocivil4&#x27;, &#x27;eviv&#x27;,\n",
       "                                                   &#x27;cielorazo&#x27;, &#x27;lugar6&#x27;,\n",
       "                                                   &#x27;techoentrepiso&#x27;,\n",
       "                                                   &#x27;pisomadera&#x27;,\n",
       "                                                   &#x27;female_per_bedroom&#x27;, &#x27;r4h1&#x27;, ...])])),\n",
       "                (&#x27;classifier&#x27;,\n",
       "                 GradientBoostingClassifier(learning_rate=0.3, max_depth=7,\n",
       "                                            n_estimators=200))])</pre><b>In a Jupyter environment, please rerun this cell to show the HTML representation or trust the notebook. <br />On GitHub, the HTML representation is unable to render, please try loading this page with nbviewer.org.</b></div><div class=\"sk-container\" hidden><div class=\"sk-item sk-dashed-wrapped\"><div class=\"sk-label-container\"><div class=\"sk-label sk-toggleable\"><input class=\"sk-toggleable__control sk-hidden--visually\" id=\"sk-estimator-id-8\" type=\"checkbox\" ><label for=\"sk-estimator-id-8\" class=\"sk-toggleable__label sk-toggleable__label-arrow\">Pipeline</label><div class=\"sk-toggleable__content\"><pre>Pipeline(steps=[(&#x27;preprocessor&#x27;,\n",
       "                 ColumnTransformer(transformers=[(&#x27;std_scaler&#x27;,\n",
       "                                                  StandardScaler(),\n",
       "                                                  [&#x27;v2a1&#x27;, &#x27;edjefe&#x27;, &#x27;edjefa&#x27;,\n",
       "                                                   &#x27;meaneduc&#x27;, &#x27;age&#x27;,\n",
       "                                                   &#x27;rent_to_rooms&#x27;,\n",
       "                                                   &#x27;v2a1_to_r4t3&#x27;,\n",
       "                                                   &#x27;rent_per_bedroom&#x27;,\n",
       "                                                   &#x27;rent_to_rooms&#x27;,\n",
       "                                                   &#x27;v2a1_to_r4t3&#x27;,\n",
       "                                                   &#x27;rent_per_person&#x27;]),\n",
       "                                                 (&#x27;minmax_scaler&#x27;,\n",
       "                                                  MinMaxScaler(),\n",
       "                                                  [&#x27;qmobilephone&#x27;, &#x27;noelec&#x27;,\n",
       "                                                   &#x27;tipovivi3&#x27;, &#x27;techootro&#x27;,\n",
       "                                                   &#x27;energcocinar3&#x27;,\n",
       "                                                   &#x27;sanitario3&#x27;, &#x27;...\n",
       "                                                   &#x27;public&#x27;, &#x27;r4t3_to_rooms&#x27;,\n",
       "                                                   &#x27;energcocinar1&#x27;,\n",
       "                                                   &#x27;parentesco3&#x27;, &#x27;area1&#x27;,\n",
       "                                                   &#x27;estadocivil7&#x27;, &#x27;etecho&#x27;,\n",
       "                                                   &#x27;paredpreb&#x27;,\n",
       "                                                   &#x27;adults_per_bedroom&#x27;,\n",
       "                                                   &#x27;paredmad&#x27;, &#x27;r4h3&#x27;,\n",
       "                                                   &#x27;hhsize_to_rooms&#x27;, &#x27;r4m2&#x27;,\n",
       "                                                   &#x27;estadocivil4&#x27;, &#x27;eviv&#x27;,\n",
       "                                                   &#x27;cielorazo&#x27;, &#x27;lugar6&#x27;,\n",
       "                                                   &#x27;techoentrepiso&#x27;,\n",
       "                                                   &#x27;pisomadera&#x27;,\n",
       "                                                   &#x27;female_per_bedroom&#x27;, &#x27;r4h1&#x27;, ...])])),\n",
       "                (&#x27;classifier&#x27;,\n",
       "                 GradientBoostingClassifier(learning_rate=0.3, max_depth=7,\n",
       "                                            n_estimators=200))])</pre></div></div></div><div class=\"sk-serial\"><div class=\"sk-item sk-dashed-wrapped\"><div class=\"sk-label-container\"><div class=\"sk-label sk-toggleable\"><input class=\"sk-toggleable__control sk-hidden--visually\" id=\"sk-estimator-id-9\" type=\"checkbox\" ><label for=\"sk-estimator-id-9\" class=\"sk-toggleable__label sk-toggleable__label-arrow\">preprocessor: ColumnTransformer</label><div class=\"sk-toggleable__content\"><pre>ColumnTransformer(transformers=[(&#x27;std_scaler&#x27;, StandardScaler(),\n",
       "                                 [&#x27;v2a1&#x27;, &#x27;edjefe&#x27;, &#x27;edjefa&#x27;, &#x27;meaneduc&#x27;, &#x27;age&#x27;,\n",
       "                                  &#x27;rent_to_rooms&#x27;, &#x27;v2a1_to_r4t3&#x27;,\n",
       "                                  &#x27;rent_per_bedroom&#x27;, &#x27;rent_to_rooms&#x27;,\n",
       "                                  &#x27;v2a1_to_r4t3&#x27;, &#x27;rent_per_person&#x27;]),\n",
       "                                (&#x27;minmax_scaler&#x27;, MinMaxScaler(),\n",
       "                                 [&#x27;qmobilephone&#x27;, &#x27;noelec&#x27;, &#x27;tipovivi3&#x27;,\n",
       "                                  &#x27;techootro&#x27;, &#x27;energcocinar3&#x27;, &#x27;sanitario3&#x27;,\n",
       "                                  &#x27;r4t2&#x27;, &#x27;bonus&#x27;, &#x27;instlevel&#x27;, &#x27;public&#x27;,\n",
       "                                  &#x27;r4t3_to_rooms&#x27;, &#x27;energcocinar1&#x27;,\n",
       "                                  &#x27;parentesco3&#x27;, &#x27;area1&#x27;, &#x27;estadocivil7&#x27;,\n",
       "                                  &#x27;etecho&#x27;, &#x27;paredpreb&#x27;, &#x27;adults_per_bedroom&#x27;,\n",
       "                                  &#x27;paredmad&#x27;, &#x27;r4h3&#x27;, &#x27;hhsize_to_rooms&#x27;, &#x27;r4m2&#x27;,\n",
       "                                  &#x27;estadocivil4&#x27;, &#x27;eviv&#x27;, &#x27;cielorazo&#x27;, &#x27;lugar6&#x27;,\n",
       "                                  &#x27;techoentrepiso&#x27;, &#x27;pisomadera&#x27;,\n",
       "                                  &#x27;female_per_bedroom&#x27;, &#x27;r4h1&#x27;, ...])])</pre></div></div></div><div class=\"sk-parallel\"><div class=\"sk-parallel-item\"><div class=\"sk-item\"><div class=\"sk-label-container\"><div class=\"sk-label sk-toggleable\"><input class=\"sk-toggleable__control sk-hidden--visually\" id=\"sk-estimator-id-10\" type=\"checkbox\" ><label for=\"sk-estimator-id-10\" class=\"sk-toggleable__label sk-toggleable__label-arrow\">std_scaler</label><div class=\"sk-toggleable__content\"><pre>[&#x27;v2a1&#x27;, &#x27;edjefe&#x27;, &#x27;edjefa&#x27;, &#x27;meaneduc&#x27;, &#x27;age&#x27;, &#x27;rent_to_rooms&#x27;, &#x27;v2a1_to_r4t3&#x27;, &#x27;rent_per_bedroom&#x27;, &#x27;rent_to_rooms&#x27;, &#x27;v2a1_to_r4t3&#x27;, &#x27;rent_per_person&#x27;]</pre></div></div></div><div class=\"sk-serial\"><div class=\"sk-item\"><div class=\"sk-estimator sk-toggleable\"><input class=\"sk-toggleable__control sk-hidden--visually\" id=\"sk-estimator-id-11\" type=\"checkbox\" ><label for=\"sk-estimator-id-11\" class=\"sk-toggleable__label sk-toggleable__label-arrow\">StandardScaler</label><div class=\"sk-toggleable__content\"><pre>StandardScaler()</pre></div></div></div></div></div></div><div class=\"sk-parallel-item\"><div class=\"sk-item\"><div class=\"sk-label-container\"><div class=\"sk-label sk-toggleable\"><input class=\"sk-toggleable__control sk-hidden--visually\" id=\"sk-estimator-id-12\" type=\"checkbox\" ><label for=\"sk-estimator-id-12\" class=\"sk-toggleable__label sk-toggleable__label-arrow\">minmax_scaler</label><div class=\"sk-toggleable__content\"><pre>[&#x27;qmobilephone&#x27;, &#x27;noelec&#x27;, &#x27;tipovivi3&#x27;, &#x27;techootro&#x27;, &#x27;energcocinar3&#x27;, &#x27;sanitario3&#x27;, &#x27;r4t2&#x27;, &#x27;bonus&#x27;, &#x27;instlevel&#x27;, &#x27;public&#x27;, &#x27;r4t3_to_rooms&#x27;, &#x27;energcocinar1&#x27;, &#x27;parentesco3&#x27;, &#x27;area1&#x27;, &#x27;estadocivil7&#x27;, &#x27;etecho&#x27;, &#x27;paredpreb&#x27;, &#x27;adults_per_bedroom&#x27;, &#x27;paredmad&#x27;, &#x27;r4h3&#x27;, &#x27;hhsize_to_rooms&#x27;, &#x27;r4m2&#x27;, &#x27;estadocivil4&#x27;, &#x27;eviv&#x27;, &#x27;cielorazo&#x27;, &#x27;lugar6&#x27;, &#x27;techoentrepiso&#x27;, &#x27;pisomadera&#x27;, &#x27;female_per_bedroom&#x27;, &#x27;r4h1&#x27;, &#x27;hacdor&#x27;, &#x27;lugar1&#x27;, &#x27;dependency&#x27;, &#x27;pisoother&#x27;, &#x27;parentesco1&#x27;, &#x27;elimbasu3&#x27;, &#x27;sanitario5&#x27;, &#x27;lugar3&#x27;, &#x27;television&#x27;, &#x27;dis&#x27;, &#x27;child_per_bedroom&#x27;, &#x27;estadocivil2&#x27;, &#x27;parentesco5&#x27;, &#x27;r4h2&#x27;, &#x27;estadocivil3&#x27;, &#x27;r4m3&#x27;, &#x27;elimbasu4&#x27;, &#x27;estadocivil6&#x27;, &#x27;male_per_bedroom&#x27;, &#x27;hogar_total&#x27;, &#x27;parentesco11&#x27;, &#x27;elimbasu2&#x27;, &#x27;parentesco6&#x27;, &#x27;rooms&#x27;, &#x27;techozinc&#x27;, &#x27;tipovivi2&#x27;, &#x27;lugar2&#x27;, &#x27;r4t1&#x27;, &#x27;energcocinar4&#x27;, &#x27;parentesco12&#x27;, &#x27;epared&#x27;, &#x27;paredblolad&#x27;, &#x27;parentesco7&#x27;, &#x27;male&#x27;, &#x27;v18q1&#x27;, &#x27;sanitario6&#x27;, &#x27;lugar5&#x27;, &#x27;minus&#x27;, &#x27;parentesco10&#x27;, &#x27;refrig&#x27;, &#x27;pisomoscer&#x27;, &#x27;planpri&#x27;, &#x27;estadocivil5&#x27;, &#x27;tipovivi5&#x27;, &#x27;hogar_adul&#x27;, &#x27;elimbasu5&#x27;, &#x27;lugar4&#x27;, &#x27;paredfibras&#x27;, &#x27;abastaguafuera&#x27;, &#x27;overcrowding&#x27;, &#x27;parentesco9&#x27;, &#x27;parentesco2&#x27;, &#x27;coopele&#x27;, &#x27;pisonatur&#x27;, &#x27;pisocemento&#x27;, &#x27;estadocivil1&#x27;, &#x27;pisonotiene&#x27;, &#x27;computer&#x27;, &#x27;hacapo&#x27;, &#x27;escolari&#x27;, &#x27;abastaguadentro&#x27;, &#x27;energcocinar2&#x27;, &#x27;area2&#x27;, &#x27;tipovivi1&#x27;, &#x27;r4m1&#x27;, &#x27;paredzinc&#x27;, &#x27;parentesco8&#x27;, &#x27;parentesco4&#x27;, &#x27;tipovivi4&#x27;, &#x27;techocane&#x27;, &#x27;elimbasu1&#x27;, &#x27;pareddes&#x27;, &#x27;paredother&#x27;, &#x27;paredzocalo&#x27;, &#x27;sanitario1&#x27;, &#x27;bedrooms_to_rooms&#x27;, &#x27;sanitario2&#x27;, &#x27;hogar_mayor&#x27;, &#x27;hogar_nin&#x27;, &#x27;bedrooms&#x27;, &#x27;elimbasu6&#x27;, &#x27;rez_esc&#x27;, &#x27;tamhog_to_rooms&#x27;, &#x27;overcrowding_room_and_bedroom&#x27;, &#x27;abastaguano&#x27;, &#x27;r4t3_to_tamhog&#x27;]</pre></div></div></div><div class=\"sk-serial\"><div class=\"sk-item\"><div class=\"sk-estimator sk-toggleable\"><input class=\"sk-toggleable__control sk-hidden--visually\" id=\"sk-estimator-id-13\" type=\"checkbox\" ><label for=\"sk-estimator-id-13\" class=\"sk-toggleable__label sk-toggleable__label-arrow\">MinMaxScaler</label><div class=\"sk-toggleable__content\"><pre>MinMaxScaler()</pre></div></div></div></div></div></div></div></div><div class=\"sk-item\"><div class=\"sk-estimator sk-toggleable\"><input class=\"sk-toggleable__control sk-hidden--visually\" id=\"sk-estimator-id-14\" type=\"checkbox\" ><label for=\"sk-estimator-id-14\" class=\"sk-toggleable__label sk-toggleable__label-arrow\">GradientBoostingClassifier</label><div class=\"sk-toggleable__content\"><pre>GradientBoostingClassifier(learning_rate=0.3, max_depth=7, n_estimators=200)</pre></div></div></div></div></div></div></div>"
      ],
      "text/plain": [
       "Pipeline(steps=[('preprocessor',\n",
       "                 ColumnTransformer(transformers=[('std_scaler',\n",
       "                                                  StandardScaler(),\n",
       "                                                  ['v2a1', 'edjefe', 'edjefa',\n",
       "                                                   'meaneduc', 'age',\n",
       "                                                   'rent_to_rooms',\n",
       "                                                   'v2a1_to_r4t3',\n",
       "                                                   'rent_per_bedroom',\n",
       "                                                   'rent_to_rooms',\n",
       "                                                   'v2a1_to_r4t3',\n",
       "                                                   'rent_per_person']),\n",
       "                                                 ('minmax_scaler',\n",
       "                                                  MinMaxScaler(),\n",
       "                                                  ['qmobilephone', 'noelec',\n",
       "                                                   'tipovivi3', 'techootro',\n",
       "                                                   'energcocinar3',\n",
       "                                                   'sanitario3', '...\n",
       "                                                   'public', 'r4t3_to_rooms',\n",
       "                                                   'energcocinar1',\n",
       "                                                   'parentesco3', 'area1',\n",
       "                                                   'estadocivil7', 'etecho',\n",
       "                                                   'paredpreb',\n",
       "                                                   'adults_per_bedroom',\n",
       "                                                   'paredmad', 'r4h3',\n",
       "                                                   'hhsize_to_rooms', 'r4m2',\n",
       "                                                   'estadocivil4', 'eviv',\n",
       "                                                   'cielorazo', 'lugar6',\n",
       "                                                   'techoentrepiso',\n",
       "                                                   'pisomadera',\n",
       "                                                   'female_per_bedroom', 'r4h1', ...])])),\n",
       "                ('classifier',\n",
       "                 GradientBoostingClassifier(learning_rate=0.3, max_depth=7,\n",
       "                                            n_estimators=200))])"
      ]
     },
     "execution_count": 21,
     "metadata": {},
     "output_type": "execute_result"
    }
   ],
   "source": [
    "# train model với bộ tham số tốt nhất và trọng số của các nhãn\n",
    "pipeline.fit(X_train, y_train,  classifier__sample_weight=weights_train)\n"
   ]
  },
  {
   "cell_type": "markdown",
   "metadata": {},
   "source": [
    "Ở đây, t không dùng `feature_importances` để lọc ra các feature quan trọng vì kết quả submit thấp hơn so với lúc chưa dùng."
   ]
  },
  {
   "cell_type": "code",
   "execution_count": 22,
   "metadata": {},
   "outputs": [],
   "source": [
    "# #Feature importance\n",
    "# classifier = pipeline.named_steps['classifier']\n",
    "# feature_importances = classifier.feature_importances_\n",
    "# feature_importances = 100.0 * (feature_importances / feature_importances.max())\n",
    "# sorted_idx = np.argsort(feature_importances)\n",
    "\n",
    "# # lọc các đặc trưng đóng góp hơn 1%\n",
    "# important_features_indices = np.where(feature_importances >=1 )[0]\n",
    "# important_features = X_train.columns[important_features_indices]\n",
    "# #  Lọc các đặc trưng quan trọng từ tập train test\n",
    "\n",
    "# X_train_selected = X_train[important_features]\n",
    "# X_test_selected = X_test[important_features]\n",
    "\n",
    "# # Loại bỏ các đặc trưng trong pipeline\n",
    "# to_dropi= np.where(feature_importances < 1 )[0]\n",
    "# not_ipt = X_train.columns[to_dropi]\n",
    "# col_std = [x for x in col_std if x not in not_ipt]\n",
    "# col_minmax = [x for x in col_minmax if x not in not_ipt]\n",
    "\n",
    "## Train lại model với dữ liệu mới\n"
   ]
  },
  {
   "cell_type": "markdown",
   "metadata": {},
   "source": [
    "### Dự đoán trên dữ liệu test"
   ]
  },
  {
   "cell_type": "code",
   "execution_count": 23,
   "metadata": {},
   "outputs": [
    {
     "name": "stdout",
     "output_type": "stream",
     "text": [
      "F1 score:  0.9310433948630394\n"
     ]
    }
   ],
   "source": [
    "y_pred = pipeline.predict(X_test)\n",
    "best_f1 = f1_score(y_test, y_pred, average='macro')\n",
    "print(\"F1 score: \", best_f1)"
   ]
  },
  {
   "cell_type": "markdown",
   "metadata": {},
   "source": [
    "Mô hình cho ra f1-score khá tốt."
   ]
  },
  {
   "cell_type": "markdown",
   "metadata": {},
   "source": [
    "### Dự đoán với dữ liệu test để submit"
   ]
  },
  {
   "cell_type": "code",
   "execution_count": 24,
   "metadata": {},
   "outputs": [],
   "source": [
    "data_test_id = list(test.Id)\n",
    "data_test = test.drop(columns=['Id', 'idhogar', 'Target'])\n",
    "\n",
    "gb_submission = pd.DataFrame({'Id': data_test_id, 'Target': pipeline.predict(data_test).astype(int)})\n",
    "gb_submission.to_csv('submission.csv', index = False)"
   ]
  },
  {
   "cell_type": "code",
   "execution_count": null,
   "metadata": {},
   "outputs": [],
   "source": []
  }
 ],
 "metadata": {
  "kernelspec": {
   "display_name": "min_ds-env",
   "language": "python",
   "name": "python3"
  },
  "language_info": {
   "codemirror_mode": {
    "name": "ipython",
    "version": 3
   },
   "file_extension": ".py",
   "mimetype": "text/x-python",
   "name": "python",
   "nbconvert_exporter": "python",
   "pygments_lexer": "ipython3",
   "version": "3.10.8"
  }
 },
 "nbformat": 4,
 "nbformat_minor": 2
}
